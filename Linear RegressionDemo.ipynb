{
 "cells": [
  {
   "cell_type": "markdown",
   "metadata": {},
   "source": [
    "Regression- form of predictive modelling technique which investigates the relationship between a dependent and an independent variable \n",
    "It shows the changes in the dependent variable on the y axis to the changes in the explanatory variable in the x axis.\n",
    "Uses of regression - trend forcasting, analysis of quantities that are interdependent, determinning the strength of predictors. \n",
    "\n",
    "Main types : \n",
    "\n",
    "1.Linear Regression : data is modelled using a straight linel;used with continuous variable;output depends on value of the variable; accuracy and goodness of fit is measured by loss, R squared, Adjusted R squared.\n",
    "Linear regression maps a continuous x to a continuous y.\n",
    "\n",
    "2.Logistic Regression : probablity of some obtained event is represented as a linear function of a combination of predictor variables; used with categorical variable; output depends on the probablity of occurance of an event; accuracy and goodness of fit is measured by precision and Roc curve.\n",
    "Logistic regression maps a continuous x to a binary y."
   ]
  },
  {
   "cell_type": "code",
   "execution_count": 40,
   "metadata": {},
   "outputs": [
    {
     "name": "stdout",
     "output_type": "stream",
     "text": [
      "(7, 4)\n"
     ]
    },
    {
     "data": {
      "text/html": [
       "<div>\n",
       "<style scoped>\n",
       "    .dataframe tbody tr th:only-of-type {\n",
       "        vertical-align: middle;\n",
       "    }\n",
       "\n",
       "    .dataframe tbody tr th {\n",
       "        vertical-align: top;\n",
       "    }\n",
       "\n",
       "    .dataframe thead th {\n",
       "        text-align: right;\n",
       "    }\n",
       "</style>\n",
       "<table border=\"1\" class=\"dataframe\">\n",
       "  <thead>\n",
       "    <tr style=\"text-align: right;\">\n",
       "      <th></th>\n",
       "      <th>Car</th>\n",
       "      <th>Road Status</th>\n",
       "      <th>Chance of Accident(%)</th>\n",
       "      <th>Driving Speed(Kmph)</th>\n",
       "    </tr>\n",
       "  </thead>\n",
       "  <tbody>\n",
       "    <tr>\n",
       "      <td>0</td>\n",
       "      <td>Swift dzire</td>\n",
       "      <td>Conjested</td>\n",
       "      <td>5</td>\n",
       "      <td>30.130</td>\n",
       "    </tr>\n",
       "    <tr>\n",
       "      <td>1</td>\n",
       "      <td>Hyundai Creta</td>\n",
       "      <td>Freeway</td>\n",
       "      <td>25</td>\n",
       "      <td>140.365</td>\n",
       "    </tr>\n",
       "    <tr>\n",
       "      <td>2</td>\n",
       "      <td>Honda City</td>\n",
       "      <td>Freeway</td>\n",
       "      <td>12</td>\n",
       "      <td>80.000</td>\n",
       "    </tr>\n",
       "    <tr>\n",
       "      <td>3</td>\n",
       "      <td>WagonR</td>\n",
       "      <td>Mild Traffic</td>\n",
       "      <td>10</td>\n",
       "      <td>60.250</td>\n",
       "    </tr>\n",
       "    <tr>\n",
       "      <td>4</td>\n",
       "      <td>Baleno</td>\n",
       "      <td>Mild Traffic</td>\n",
       "      <td>8</td>\n",
       "      <td>40.000</td>\n",
       "    </tr>\n",
       "    <tr>\n",
       "      <td>5</td>\n",
       "      <td>Volkswagon Polo</td>\n",
       "      <td>Freeway</td>\n",
       "      <td>3</td>\n",
       "      <td>30.000</td>\n",
       "    </tr>\n",
       "    <tr>\n",
       "      <td>6</td>\n",
       "      <td>G Wagon</td>\n",
       "      <td>Conjested</td>\n",
       "      <td>100</td>\n",
       "      <td>90.880</td>\n",
       "    </tr>\n",
       "  </tbody>\n",
       "</table>\n",
       "</div>"
      ],
      "text/plain": [
       "               Car   Road Status  Chance of Accident(%)  Driving Speed(Kmph)\n",
       "0      Swift dzire     Conjested                      5               30.130\n",
       "1    Hyundai Creta       Freeway                     25              140.365\n",
       "2       Honda City       Freeway                     12               80.000\n",
       "3           WagonR  Mild Traffic                     10               60.250\n",
       "4           Baleno  Mild Traffic                      8               40.000\n",
       "5  Volkswagon Polo       Freeway                      3               30.000\n",
       "6          G Wagon     Conjested                    100               90.880"
      ]
     },
     "execution_count": 40,
     "metadata": {},
     "output_type": "execute_result"
    }
   ],
   "source": [
    " #linear regression\n",
    "\n",
    "%matplotlib inline\n",
    "import numpy as np\n",
    "import pandas as pd \n",
    "import matplotlib.pyplot as plt\n",
    "    \n",
    "# reading the data\n",
    "    \n",
    "dataset=pd.read_csv(\"Cardata.csv\",encoding='unicode escape')\n",
    "print(dataset.shape)\n",
    "dataset.head(7)"
   ]
  },
  {
   "cell_type": "code",
   "execution_count": 41,
   "metadata": {},
   "outputs": [],
   "source": [
    "#Collection of data- prediction of accident chance based on driving speed \n",
    "X=dataset['Driving Speed(Kmph)'].values\n",
    "Y=dataset['Chance of Accident(%)'].values "
   ]
  },
  {
   "cell_type": "code",
   "execution_count": 42,
   "metadata": {},
   "outputs": [],
   "source": [
    "#find the mean of data values\n",
    "mean_x=np.mean(X)\n",
    "mean_y=np.mean(Y)"
   ]
  },
  {
   "cell_type": "code",
   "execution_count": 43,
   "metadata": {},
   "outputs": [
    {
     "name": "stdout",
     "output_type": "stream",
     "text": [
      "67.375 \n",
      " 23.285714285714285\n"
     ]
    }
   ],
   "source": [
    "print(mean_x,\"\\n\",mean_y)"
   ]
  },
  {
   "cell_type": "code",
   "execution_count": 44,
   "metadata": {},
   "outputs": [
    {
     "data": {
      "text/plain": [
       "7"
      ]
     },
     "execution_count": 44,
     "metadata": {},
     "output_type": "execute_result"
    }
   ],
   "source": [
    "#finding total number of values\n",
    "n=len(X)\n",
    "n"
   ]
  },
  {
   "cell_type": "code",
   "execution_count": 45,
   "metadata": {},
   "outputs": [
    {
     "name": "stdout",
     "output_type": "stream",
     "text": [
      "0.38843359542907013 -2.884999206319314\n"
     ]
    }
   ],
   "source": [
    "#now calculate the values of m and c\n",
    "numerator=0\n",
    "denomenator=0\n",
    "\n",
    "for i in range(n):\n",
    "    numerator+=(X[i]-mean_x)*(Y[i]-mean_y)\n",
    "    denomenator+=(X[i]-mean_x)**2\n",
    "m=numerator/denomenator\n",
    "error=mean_y-(m*mean_x)\n",
    "print(m,error)"
   ]
  },
  {
   "cell_type": "code",
   "execution_count": 46,
   "metadata": {},
   "outputs": [
    {
     "data": {
      "image/png": "[encoded data removed]",
      "text/plain": [
       "<Figure size 432x288 with 1 Axes>"
      ]
     },
     "metadata": {
      "needs_background": "light"
     },
     "output_type": "display_data"
    }
   ],
   "source": [
    "max_x=np.max(X)+100\n",
    "min_x=np.min(Y)-100\n",
    "\n",
    "x=np.linspace(min_x,max_x,1000)\n",
    "y=m*x+error\n",
    "\n",
    "#plotting the line\n",
    "plt.plot(x,y,color='#58b970',label='My Regression Line')\n",
    "plt.xlabel('Driving Speed in Kmph')\n",
    "plt.ylabel('Chance of accident in %')\n",
    "plt.scatter(x,y,c='#ef5423',label='Scatter Plot')\n",
    "plt.show()\n",
    "plt.show()"
   ]
  }
 ],
 "metadata": {
  "kernelspec": {
   "display_name": "Python 3",
   "language": "python",
   "name": "python3"
  },
  "language_info": {
   "codemirror_mode": {
    "name": "ipython",
    "version": 3
   },
   "file_extension": ".py",
   "mimetype": "text/x-python",
   "name": "python",
   "nbconvert_exporter": "python",
   "pygments_lexer": "ipython3",
   "version": "3.7.4"
  }
 },
 "nbformat": 4,
 "nbformat_minor": 2
}
