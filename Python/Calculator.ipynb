{
 "cells": [
  {
   "cell_type": "code",
   "execution_count": 5,
   "metadata": {},
   "outputs": [],
   "source": [
    "# A simple Calculator\n",
    "\n",
    "# defining functions for all the operations \n",
    "\n",
    "def add (a,b):\n",
    "    return (a+b)\n",
    "\n",
    "def sub (a,b):\n",
    "    if a>b:\n",
    "        return (a-b)\n",
    "    else:\n",
    "        return (b-a)\n",
    "    \n",
    "def multiply(a,b):\n",
    "    return (a*b)\n",
    "\n",
    "def divide(a,b):\n",
    "    if b==0:\n",
    "        print(\"Not Defined\")\n",
    "    else:\n",
    "        return a/b\n",
    "\n",
    "def AreaOfCircle(r):\n",
    "    return 3.14*r*r\n",
    "    \n",
    "    "
   ]
  },
  {
   "cell_type": "code",
   "execution_count": 6,
   "metadata": {},
   "outputs": [
    {
     "name": "stdout",
     "output_type": "stream",
     "text": [
      "Enter the first number2\n",
      "Enter the second number3\n",
      "1.Addition\n",
      "2.Subtraction\n",
      "3.Multiplication\n",
      "4.Division\n",
      "5.Area Of Circle \n",
      "Enter Choice of operation:2\n",
      "1.0\n"
     ]
    }
   ],
   "source": [
    "# Taking the input of the numbers\n",
    "a=float(input(\"Enter the first number\"))\n",
    "b=float(input(\"Enter the second number\"))\n",
    "\n",
    "#Operation Menu\n",
    "print(\"1.Addition\")\n",
    "print(\"2.Subtraction\")\n",
    "print(\"3.Multiplication\")\n",
    "print(\"4.Division\")\n",
    "print(\"5.Area Of Circle \")\n",
    "\n",
    "choice=int(input(\"Enter Choice of operation:\"))\n",
    "\n",
    "if choice==1:\n",
    "    print(add(a,b))\n",
    "\n",
    "elif choice==2:\n",
    "     print(sub(a,b))\n",
    "        \n",
    "elif choice==3:\n",
    "    print(multiply(a,b))\n",
    "    \n",
    "elif choice==4:\n",
    "    print(divide(a,b))\n",
    "\n",
    "elif choice==5:\n",
    "    r=float(input(\"Enter the radius of the Circle\"))\n",
    "    print(AreaOfCircle(r))\n",
    "\n",
    "\n",
    "else :\n",
    "    print(\"Invalid Choice\")\n",
    "    \n",
    "    \n",
    "    "
   ]
  },
  {
   "cell_type": "code",
   "execution_count": null,
   "metadata": {},
   "outputs": [],
   "source": []
  },
  {
   "cell_type": "code",
   "execution_count": null,
   "metadata": {},
   "outputs": [],
   "source": []
  }
 ],
 "metadata": {
  "kernelspec": {
   "display_name": "Python 3",
   "language": "python",
   "name": "python3"
  },
  "language_info": {
   "codemirror_mode": {
    "name": "ipython",
    "version": 3
   },
   "file_extension": ".py",
   "mimetype": "text/x-python",
   "name": "python",
   "nbconvert_exporter": "python",
   "pygments_lexer": "ipython3",
   "version": "3.7.4"
  }
 },
 "nbformat": 4,
 "nbformat_minor": 2
}
