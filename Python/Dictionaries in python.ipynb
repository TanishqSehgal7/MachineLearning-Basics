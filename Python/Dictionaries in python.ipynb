{
 "cells": [
  {
   "cell_type": "code",
   "execution_count": 6,
   "metadata": {},
   "outputs": [],
   "source": [
    "#dictionaries can be thought of as a key value pair collection\n",
    "\n",
    "#defining a dictionary -> d={\"key1\":value1,\"key2\":value2......,\"keyN\":valueN}\n",
    "\n",
    "d={}\n",
    "\n",
    "d[\"tanishq\"]=25\n",
    "d[\"mayank\"]=30"
   ]
  },
  {
   "cell_type": "code",
   "execution_count": 7,
   "metadata": {},
   "outputs": [
    {
     "name": "stdout",
     "output_type": "stream",
     "text": [
      "25\n"
     ]
    }
   ],
   "source": [
    "print(d[\"tanishq\"])"
   ]
  },
  {
   "cell_type": "code",
   "execution_count": 9,
   "metadata": {},
   "outputs": [
    {
     "name": "stdout",
     "output_type": "stream",
     "text": [
      "30\n"
     ]
    }
   ],
   "source": [
    "print(d[\"mayank\"])"
   ]
  },
  {
   "cell_type": "code",
   "execution_count": 10,
   "metadata": {},
   "outputs": [],
   "source": [
    "d[\"tanishq\"]=35"
   ]
  },
  {
   "cell_type": "code",
   "execution_count": 11,
   "metadata": {},
   "outputs": [
    {
     "name": "stdout",
     "output_type": "stream",
     "text": [
      "35\n"
     ]
    }
   ],
   "source": [
    "print(d[\"tanishq\"])"
   ]
  },
  {
   "cell_type": "code",
   "execution_count": 12,
   "metadata": {},
   "outputs": [
    {
     "name": "stdout",
     "output_type": "stream",
     "text": [
      "dict_items([('tanishq', 35), ('mayank', 30)])\n"
     ]
    }
   ],
   "source": [
    "#keys are generally string or numbers in a dictionary whereas values could be of any type \n",
    "print(d.items())"
   ]
  },
  {
   "cell_type": "code",
   "execution_count": 16,
   "metadata": {},
   "outputs": [
    {
     "name": "stdout",
     "output_type": "stream",
     "text": [
      "key is:\n",
      "tanishq\n",
      "value is:\n",
      "35\n",
      "\n",
      "\n",
      "key is:\n",
      "mayank\n",
      "value is:\n",
      "30\n",
      "\n",
      "\n"
     ]
    }
   ],
   "source": [
    "#interating over the key value pairs in python\n",
    "\n",
    "for key,val in d.items():\n",
    "    print(\"key is:\")\n",
    "    print(key)\n",
    "    print(\"value is:\")\n",
    "    print(val)\n",
    "    print(\"\\n\")"
   ]
  },
  {
   "cell_type": "code",
   "execution_count": null,
   "metadata": {},
   "outputs": [],
   "source": []
  }
 ],
 "metadata": {
  "kernelspec": {
   "display_name": "Python 3",
   "language": "python",
   "name": "python3"
  },
  "language_info": {
   "codemirror_mode": {
    "name": "ipython",
    "version": 3
   },
   "file_extension": ".py",
   "mimetype": "text/x-python",
   "name": "python",
   "nbconvert_exporter": "python",
   "pygments_lexer": "ipython3",
   "version": "3.7.4"
  }
 },
 "nbformat": 4,
 "nbformat_minor": 2
}
