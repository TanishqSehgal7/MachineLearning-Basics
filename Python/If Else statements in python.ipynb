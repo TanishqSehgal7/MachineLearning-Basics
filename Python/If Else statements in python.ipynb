{
 "cells": [
  {
   "cell_type": "code",
   "execution_count": 4,
   "metadata": {},
   "outputs": [
    {
     "name": "stdout",
     "output_type": "stream",
     "text": [
      "a is less than b\n",
      "a is definitely less than b\n",
      "1 2\n",
      "not sure if a<b\n"
     ]
    }
   ],
   "source": [
    "#to clear the state of the juputer notebook, press kernel -> restart\n",
    "\n",
    "# if else statements \n",
    "\n",
    "a=1\n",
    "b=2\n",
    "# indent the line by four spaces in if else clause \n",
    "#number of spaces should be equal in one particular block of code\n",
    "if a<b:\n",
    "    print('a is less than b')\n",
    "    print(\"a is definitely less than b\")\n",
    "    print(a,b)\n",
    "print('not sure if a<b')"
   ]
  },
  {
   "cell_type": "code",
   "execution_count": 8,
   "metadata": {},
   "outputs": [
    {
     "name": "stdout",
     "output_type": "stream",
     "text": [
      "c is less than d\n",
      "i dont think c<d\n"
     ]
    }
   ],
   "source": [
    "#usage of if else clauses together \n",
    "c=3\n",
    "d=4\n",
    "if c<d:\n",
    "    print('c is less than d')\n",
    "else: \n",
    "    print('c is not less than d')\n",
    "    print('outside if block')\n",
    "print('i dont think c<d')    "
   ]
  },
  {
   "cell_type": "code",
   "execution_count": 24,
   "metadata": {},
   "outputs": [
    {
     "name": "stdout",
     "output_type": "stream",
     "text": [
      "e is less than f\n"
     ]
    }
   ],
   "source": [
    "# usage of if else and elif clauses in a single code snippet\n",
    "e=7\n",
    "f=8\n",
    "\n",
    "if e<f:\n",
    "    print('e is less than f')\n",
    "elif e==f:\n",
    "    print('e is equal to f')\n",
    "elif e >f + 10:\n",
    "    print('e is greater than f by 10')\n",
    "else:\n",
    "    print('e is greater than f')"
   ]
  },
  {
   "cell_type": "code",
   "execution_count": 29,
   "metadata": {},
   "outputs": [
    {
     "name": "stdout",
     "output_type": "stream",
     "text": [
      "g is less than h\n"
     ]
    }
   ],
   "source": [
    "g=10\n",
    "h=12\n",
    "\n",
    "if g<h:\n",
    "    print('g is less than h')\n",
    "else:\n",
    "    if g==h:\n",
    "        print('g is equal to h')\n",
    "    else: \n",
    "        print('g is greater than h')"
   ]
  },
  {
   "cell_type": "code",
   "execution_count": 34,
   "metadata": {},
   "outputs": [
    {
     "name": "stdout",
     "output_type": "stream",
     "text": [
      "Mayank is overweight and has a bmi of:\n",
      "41.96797520661157\n"
     ]
    }
   ],
   "source": [
    "# BODY MASS INDEX (BMI) CALCULATOR \n",
    "name='Mayank'\n",
    "height_m=1.76\n",
    "weight_kg=130\n",
    "\n",
    "bmi=weight_kg/(height_m **2)\n",
    "\n",
    "if bmi<25:\n",
    "    print(name + ' is not overweight and has a bmi of:')\n",
    "    print(bmi)\n",
    "else: \n",
    "    print(name + ' is overweight and has a bmi of:')\n",
    "    print(bmi)"
   ]
  },
  {
   "cell_type": "code",
   "execution_count": null,
   "metadata": {},
   "outputs": [],
   "source": []
  }
 ],
 "metadata": {
  "kernelspec": {
   "display_name": "Python 3",
   "language": "python",
   "name": "python3"
  },
  "language_info": {
   "codemirror_mode": {
    "name": "ipython",
    "version": 3
   },
   "file_extension": ".py",
   "mimetype": "text/x-python",
   "name": "python",
   "nbconvert_exporter": "python",
   "pygments_lexer": "ipython3",
   "version": "3.7.4"
  }
 },
 "nbformat": 4,
 "nbformat_minor": 2
}
