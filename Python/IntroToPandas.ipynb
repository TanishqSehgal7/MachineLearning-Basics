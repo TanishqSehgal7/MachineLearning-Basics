{
 "cells": [
  {
   "cell_type": "code",
   "execution_count": 26,
   "metadata": {},
   "outputs": [
    {
     "name": "stdout",
     "output_type": "stream",
     "text": [
      "            artist                            album  released_year  \\\n",
      "0  Michael Jackson                         Thriller           1982   \n",
      "1            AC/DC                    Back in Black           1980   \n",
      "2       Pink Floyd        The Dark Side of the Moon           1973   \n",
      "3   Whtney Houston                    The Bodyguard           1992   \n",
      "4        Meat Loaf                  Bat Out of Hell           1977   \n",
      "5           Eagles  Their Greatest Hits (1971-1975)           1976   \n",
      "6         Bee Gees             Saturday Night Fever           1977   \n",
      "7    Fleetwood Mac                          Rumours           1977   \n",
      "\n",
      "  length_min_sec                        genre  music_recording_sales_millions  \\\n",
      "0       42:19:00               Pop, rock, R&B                            46.0   \n",
      "1       42:11:00                    Hard rock                            26.1   \n",
      "2       42:49:00             Prigressive rock                            24.2   \n",
      "3       57:44:00               R&B, soul, pop                            27.4   \n",
      "4       46:33:00  Hard rock, progressive rock                            20.6   \n",
      "5       43:08:00   rock, soft rock, folk rock                            32.2   \n",
      "6       01:15:54                        Disco                            20.6   \n",
      "7       40:01:00                    Soft rock                            27.9   \n",
      "\n",
      "   claimed_sales_millions date_released soundtrack  rating_of_friends  \n",
      "0                      65      30/11/82          N               10.0  \n",
      "1                      50      25/07/80          N                8.5  \n",
      "2                      45      01/03/73          N                9.5  \n",
      "3                      44      17/11/92          Y                7.5  \n",
      "4                      43      21/10/77          N                7.0  \n",
      "5                      42      17/02/76          N                9.0  \n",
      "6                      40      15/11/77          Y                8.5  \n",
      "7                      40      04/02/77          N                9.5  \n",
      "\n",
      "\n",
      " Music Album Details : \n",
      " ['Michael Jackson', 'Thriller', 1982, '00:42:19', 'Pop', 'Rock', 'R&B', 46.0, 65, '30-Nov-82', None, 10.0]\n",
      "\n",
      "\n",
      "\n",
      "Album details as are tuple are:\n",
      "\n",
      "\n",
      "('Michael Jackson', 'Thriller', 1982, '00:42:19', 'Pop', 'Rock', 'R&B', 46.0, 65, '30-Nov-82', None, 10.0)\n",
      "30-Nov-82\n"
     ]
    }
   ],
   "source": [
    "import pandas as pd\n",
    "\n",
    "# read_csv(\"Path\") reads the data from the file\n",
    "bigmart=pd.read_csv(\"music_dataset.csv\")\n",
    "\n",
    "# head() function displays the contents of the file that is being read\n",
    "print(bigmart.head(10))\n",
    "\n",
    "# making a list of the album details\n",
    "album1_info=[\"Michael Jackson\",\"Thriller\",1982,\"00:42:19\",\"Pop\",\"Rock\",\"R&B\",46.0,65,\"30-Nov-82\",None,10.0]\n",
    "print(\"\\n\\n Music Album Details : \\n\",album1_info)\n",
    "\n",
    "#converting the album list into a tuple\n",
    "album_tuple=tuple(album1_info)\n",
    "print(\"\\n\\n\\nAlbum details as are tuple are:\\n\\n\")\n",
    "print(album_tuple)\n",
    "\n",
    "print(album1_info[-3])"
   ]
  },
  {
   "cell_type": "code",
   "execution_count": 32,
   "metadata": {},
   "outputs": [
    {
     "data": {
      "text/plain": [
       "['Michael Jackson', 1982, 'Pop', 'R&B', 65]"
      ]
     },
     "execution_count": 32,
     "metadata": {},
     "output_type": "execute_result"
    }
   ],
   "source": [
    "#slicing the list\n",
    "album1_info[0:-2:2]"
   ]
  },
  {
   "cell_type": "code",
   "execution_count": 43,
   "metadata": {},
   "outputs": [],
   "source": [
    "genre_tuple=(\"pop\",\"rock\",\"soul\",\"hard rock\",\"soft rock\",\"R&B\",\"progressive rock\",\"disco\")"
   ]
  },
  {
   "cell_type": "code",
   "execution_count": 44,
   "metadata": {},
   "outputs": [
    {
     "name": "stdout",
     "output_type": "stream",
     "text": [
      "('pop', 'rock', 'soul', 'hard rock', 'soft rock', 'R&B', 'progressive rock', 'disco')\n"
     ]
    }
   ],
   "source": [
    "print(genre_tuple)"
   ]
  },
  {
   "cell_type": "code",
   "execution_count": 45,
   "metadata": {},
   "outputs": [
    {
     "name": "stdout",
     "output_type": "stream",
     "text": [
      "('pop', 'soul', 'soft rock', 'progressive rock')\n"
     ]
    }
   ],
   "source": [
    "print(genre_tuple[0:-1:2])"
   ]
  },
  {
   "cell_type": "code",
   "execution_count": 46,
   "metadata": {},
   "outputs": [],
   "source": [
    "genre_list=list(genre_tuple)"
   ]
  },
  {
   "cell_type": "code",
   "execution_count": 49,
   "metadata": {},
   "outputs": [
    {
     "name": "stdout",
     "output_type": "stream",
     "text": [
      "['R&B', 'disco', 'hard rock', 'pop', 'progressive rock', 'rock', 'soft rock', 'soul']\n"
     ]
    }
   ],
   "source": [
    "print(genre_list)"
   ]
  },
  {
   "cell_type": "code",
   "execution_count": null,
   "metadata": {},
   "outputs": [],
   "source": []
  }
 ],
 "metadata": {
  "kernelspec": {
   "display_name": "Python 3",
   "language": "python",
   "name": "python3"
  },
  "language_info": {
   "codemirror_mode": {
    "name": "ipython",
    "version": 3
   },
   "file_extension": ".py",
   "mimetype": "text/x-python",
   "name": "python",
   "nbconvert_exporter": "python",
   "pygments_lexer": "ipython3",
   "version": "3.7.4"
  }
 },
 "nbformat": 4,
 "nbformat_minor": 2
}
