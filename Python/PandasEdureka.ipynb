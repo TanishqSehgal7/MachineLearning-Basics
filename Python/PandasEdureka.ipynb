{
 "cells": [
  {
   "cell_type": "code",
   "execution_count": 16,
   "metadata": {},
   "outputs": [],
   "source": [
    "# pandas - it is a python library used for data manipulation and analysis and cleaning and removing inconsistencies\n",
    "#installing pandads on system : open terminal and type -> pip install pandas on the command prompt\n",
    "#installing python pandas on anaconda : type -> conda install pandas on the commpand prompt \n",
    "\n",
    "#What are dataframes Series? -> A dataframe is a two dimensional, size-mutable , heterogenous tabular data. A Pandas series is\n",
    "# one dimensional labeled array that holds data of any type.\n",
    "\n",
    "#Example\n",
    "#importing the pandas library\n",
    "import pandas as pd\n",
    "import numpy as np"
   ]
  },
  {
   "cell_type": "code",
   "execution_count": 17,
   "metadata": {},
   "outputs": [],
   "source": [
    "#creating a series\n",
    "\n",
    "s=pd.Series([1,2,3,4,5,6,np.nan,8,9,10])"
   ]
  },
  {
   "cell_type": "code",
   "execution_count": 18,
   "metadata": {},
   "outputs": [
    {
     "data": {
      "text/plain": [
       "0     1.0\n",
       "1     2.0\n",
       "2     3.0\n",
       "3     4.0\n",
       "4     5.0\n",
       "5     6.0\n",
       "6     NaN\n",
       "7     8.0\n",
       "8     9.0\n",
       "9    10.0\n",
       "dtype: float64"
      ]
     },
     "execution_count": 18,
     "metadata": {},
     "output_type": "execute_result"
    }
   ],
   "source": [
    "s"
   ]
  },
  {
   "cell_type": "code",
   "execution_count": 19,
   "metadata": {},
   "outputs": [],
   "source": [
    "#creating a dataframe \n",
    "d=pd.date_range(\"20200518\",periods=10)"
   ]
  },
  {
   "cell_type": "code",
   "execution_count": 20,
   "metadata": {},
   "outputs": [
    {
     "data": {
      "text/plain": [
       "DatetimeIndex(['2020-05-18', '2020-05-19', '2020-05-20', '2020-05-21',\n",
       "               '2020-05-22', '2020-05-23', '2020-05-24', '2020-05-25',\n",
       "               '2020-05-26', '2020-05-27'],\n",
       "              dtype='datetime64[ns]', freq='D')"
      ]
     },
     "execution_count": 20,
     "metadata": {},
     "output_type": "execute_result"
    }
   ],
   "source": [
    "d"
   ]
  },
  {
   "cell_type": "code",
   "execution_count": 21,
   "metadata": {},
   "outputs": [],
   "source": [
    "df=pd.DataFrame(np.random.randn(10,4),index=d,columns=['A','B','C','D'])"
   ]
  },
  {
   "cell_type": "code",
   "execution_count": 22,
   "metadata": {},
   "outputs": [
    {
     "data": {
      "text/html": [
       "<div>\n",
       "<style scoped>\n",
       "    .dataframe tbody tr th:only-of-type {\n",
       "        vertical-align: middle;\n",
       "    }\n",
       "\n",
       "    .dataframe tbody tr th {\n",
       "        vertical-align: top;\n",
       "    }\n",
       "\n",
       "    .dataframe thead th {\n",
       "        text-align: right;\n",
       "    }\n",
       "</style>\n",
       "<table border=\"1\" class=\"dataframe\">\n",
       "  <thead>\n",
       "    <tr style=\"text-align: right;\">\n",
       "      <th></th>\n",
       "      <th>A</th>\n",
       "      <th>B</th>\n",
       "      <th>C</th>\n",
       "      <th>D</th>\n",
       "    </tr>\n",
       "  </thead>\n",
       "  <tbody>\n",
       "    <tr>\n",
       "      <td>2020-05-18</td>\n",
       "      <td>0.003494</td>\n",
       "      <td>2.154004</td>\n",
       "      <td>-0.070177</td>\n",
       "      <td>0.046422</td>\n",
       "    </tr>\n",
       "    <tr>\n",
       "      <td>2020-05-19</td>\n",
       "      <td>-0.338394</td>\n",
       "      <td>-1.349600</td>\n",
       "      <td>0.097642</td>\n",
       "      <td>0.377403</td>\n",
       "    </tr>\n",
       "    <tr>\n",
       "      <td>2020-05-20</td>\n",
       "      <td>0.112549</td>\n",
       "      <td>0.774914</td>\n",
       "      <td>0.939130</td>\n",
       "      <td>0.710922</td>\n",
       "    </tr>\n",
       "    <tr>\n",
       "      <td>2020-05-21</td>\n",
       "      <td>-0.559390</td>\n",
       "      <td>1.897434</td>\n",
       "      <td>-1.465623</td>\n",
       "      <td>-0.220176</td>\n",
       "    </tr>\n",
       "    <tr>\n",
       "      <td>2020-05-22</td>\n",
       "      <td>0.847205</td>\n",
       "      <td>0.803796</td>\n",
       "      <td>0.487027</td>\n",
       "      <td>0.153419</td>\n",
       "    </tr>\n",
       "    <tr>\n",
       "      <td>2020-05-23</td>\n",
       "      <td>1.360131</td>\n",
       "      <td>0.033279</td>\n",
       "      <td>0.203111</td>\n",
       "      <td>1.883209</td>\n",
       "    </tr>\n",
       "    <tr>\n",
       "      <td>2020-05-24</td>\n",
       "      <td>-0.356005</td>\n",
       "      <td>0.741928</td>\n",
       "      <td>-0.220938</td>\n",
       "      <td>-0.605966</td>\n",
       "    </tr>\n",
       "    <tr>\n",
       "      <td>2020-05-25</td>\n",
       "      <td>-1.102830</td>\n",
       "      <td>-0.772870</td>\n",
       "      <td>1.049102</td>\n",
       "      <td>-1.638645</td>\n",
       "    </tr>\n",
       "    <tr>\n",
       "      <td>2020-05-26</td>\n",
       "      <td>-1.490392</td>\n",
       "      <td>-1.466000</td>\n",
       "      <td>0.835512</td>\n",
       "      <td>0.460684</td>\n",
       "    </tr>\n",
       "    <tr>\n",
       "      <td>2020-05-27</td>\n",
       "      <td>0.470127</td>\n",
       "      <td>-1.329781</td>\n",
       "      <td>1.143306</td>\n",
       "      <td>-1.676731</td>\n",
       "    </tr>\n",
       "  </tbody>\n",
       "</table>\n",
       "</div>"
      ],
      "text/plain": [
       "                   A         B         C         D\n",
       "2020-05-18  0.003494  2.154004 -0.070177  0.046422\n",
       "2020-05-19 -0.338394 -1.349600  0.097642  0.377403\n",
       "2020-05-20  0.112549  0.774914  0.939130  0.710922\n",
       "2020-05-21 -0.559390  1.897434 -1.465623 -0.220176\n",
       "2020-05-22  0.847205  0.803796  0.487027  0.153419\n",
       "2020-05-23  1.360131  0.033279  0.203111  1.883209\n",
       "2020-05-24 -0.356005  0.741928 -0.220938 -0.605966\n",
       "2020-05-25 -1.102830 -0.772870  1.049102 -1.638645\n",
       "2020-05-26 -1.490392 -1.466000  0.835512  0.460684\n",
       "2020-05-27  0.470127 -1.329781  1.143306 -1.676731"
      ]
     },
     "execution_count": 22,
     "metadata": {},
     "output_type": "execute_result"
    }
   ],
   "source": [
    "df"
   ]
  },
  {
   "cell_type": "code",
   "execution_count": 23,
   "metadata": {},
   "outputs": [],
   "source": [
    "# creating a dataframe by passing a dictionary of objects\n",
    "df1=pd.DataFrame({'A':[1,2,3,4],\"B\":pd.Timestamp('20200518'),\n",
    "                 'C':pd.Series(1,index=list(range(4)),dtype='float32'),\n",
    "                 'D':np.array([5]*4,dtype='int32'),\n",
    "                 'E':pd.Categorical(['true','False','True','false']),\n",
    "                 'F':'Machine Learning'})"
   ]
  },
  {
   "cell_type": "code",
   "execution_count": 24,
   "metadata": {},
   "outputs": [
    {
     "data": {
      "text/html": [
       "<div>\n",
       "<style scoped>\n",
       "    .dataframe tbody tr th:only-of-type {\n",
       "        vertical-align: middle;\n",
       "    }\n",
       "\n",
       "    .dataframe tbody tr th {\n",
       "        vertical-align: top;\n",
       "    }\n",
       "\n",
       "    .dataframe thead th {\n",
       "        text-align: right;\n",
       "    }\n",
       "</style>\n",
       "<table border=\"1\" class=\"dataframe\">\n",
       "  <thead>\n",
       "    <tr style=\"text-align: right;\">\n",
       "      <th></th>\n",
       "      <th>A</th>\n",
       "      <th>B</th>\n",
       "      <th>C</th>\n",
       "      <th>D</th>\n",
       "      <th>E</th>\n",
       "      <th>F</th>\n",
       "    </tr>\n",
       "  </thead>\n",
       "  <tbody>\n",
       "    <tr>\n",
       "      <td>0</td>\n",
       "      <td>1</td>\n",
       "      <td>2020-05-18</td>\n",
       "      <td>1.0</td>\n",
       "      <td>5</td>\n",
       "      <td>true</td>\n",
       "      <td>Machine Learning</td>\n",
       "    </tr>\n",
       "    <tr>\n",
       "      <td>1</td>\n",
       "      <td>2</td>\n",
       "      <td>2020-05-18</td>\n",
       "      <td>1.0</td>\n",
       "      <td>5</td>\n",
       "      <td>False</td>\n",
       "      <td>Machine Learning</td>\n",
       "    </tr>\n",
       "    <tr>\n",
       "      <td>2</td>\n",
       "      <td>3</td>\n",
       "      <td>2020-05-18</td>\n",
       "      <td>1.0</td>\n",
       "      <td>5</td>\n",
       "      <td>True</td>\n",
       "      <td>Machine Learning</td>\n",
       "    </tr>\n",
       "    <tr>\n",
       "      <td>3</td>\n",
       "      <td>4</td>\n",
       "      <td>2020-05-18</td>\n",
       "      <td>1.0</td>\n",
       "      <td>5</td>\n",
       "      <td>false</td>\n",
       "      <td>Machine Learning</td>\n",
       "    </tr>\n",
       "  </tbody>\n",
       "</table>\n",
       "</div>"
      ],
      "text/plain": [
       "   A          B    C  D      E                 F\n",
       "0  1 2020-05-18  1.0  5   true  Machine Learning\n",
       "1  2 2020-05-18  1.0  5  False  Machine Learning\n",
       "2  3 2020-05-18  1.0  5   True  Machine Learning\n",
       "3  4 2020-05-18  1.0  5  false  Machine Learning"
      ]
     },
     "execution_count": 24,
     "metadata": {},
     "output_type": "execute_result"
    }
   ],
   "source": [
    "df1"
   ]
  },
  {
   "cell_type": "code",
   "execution_count": 25,
   "metadata": {},
   "outputs": [
    {
     "data": {
      "text/plain": [
       "A    float64\n",
       "B    float64\n",
       "C    float64\n",
       "D    float64\n",
       "dtype: object"
      ]
     },
     "execution_count": 25,
     "metadata": {},
     "output_type": "execute_result"
    }
   ],
   "source": [
    "#checking the type of dataframe \n",
    "df.dtypes\n"
   ]
  },
  {
   "cell_type": "code",
   "execution_count": 26,
   "metadata": {},
   "outputs": [
    {
     "data": {
      "text/html": [
       "<div>\n",
       "<style scoped>\n",
       "    .dataframe tbody tr th:only-of-type {\n",
       "        vertical-align: middle;\n",
       "    }\n",
       "\n",
       "    .dataframe tbody tr th {\n",
       "        vertical-align: top;\n",
       "    }\n",
       "\n",
       "    .dataframe thead th {\n",
       "        text-align: right;\n",
       "    }\n",
       "</style>\n",
       "<table border=\"1\" class=\"dataframe\">\n",
       "  <thead>\n",
       "    <tr style=\"text-align: right;\">\n",
       "      <th></th>\n",
       "      <th>A</th>\n",
       "      <th>B</th>\n",
       "      <th>C</th>\n",
       "      <th>D</th>\n",
       "    </tr>\n",
       "  </thead>\n",
       "  <tbody>\n",
       "    <tr>\n",
       "      <td>2020-05-18</td>\n",
       "      <td>0.003494</td>\n",
       "      <td>2.154004</td>\n",
       "      <td>-0.070177</td>\n",
       "      <td>0.046422</td>\n",
       "    </tr>\n",
       "    <tr>\n",
       "      <td>2020-05-19</td>\n",
       "      <td>-0.338394</td>\n",
       "      <td>-1.349600</td>\n",
       "      <td>0.097642</td>\n",
       "      <td>0.377403</td>\n",
       "    </tr>\n",
       "    <tr>\n",
       "      <td>2020-05-20</td>\n",
       "      <td>0.112549</td>\n",
       "      <td>0.774914</td>\n",
       "      <td>0.939130</td>\n",
       "      <td>0.710922</td>\n",
       "    </tr>\n",
       "    <tr>\n",
       "      <td>2020-05-21</td>\n",
       "      <td>-0.559390</td>\n",
       "      <td>1.897434</td>\n",
       "      <td>-1.465623</td>\n",
       "      <td>-0.220176</td>\n",
       "    </tr>\n",
       "    <tr>\n",
       "      <td>2020-05-22</td>\n",
       "      <td>0.847205</td>\n",
       "      <td>0.803796</td>\n",
       "      <td>0.487027</td>\n",
       "      <td>0.153419</td>\n",
       "    </tr>\n",
       "  </tbody>\n",
       "</table>\n",
       "</div>"
      ],
      "text/plain": [
       "                   A         B         C         D\n",
       "2020-05-18  0.003494  2.154004 -0.070177  0.046422\n",
       "2020-05-19 -0.338394 -1.349600  0.097642  0.377403\n",
       "2020-05-20  0.112549  0.774914  0.939130  0.710922\n",
       "2020-05-21 -0.559390  1.897434 -1.465623 -0.220176\n",
       "2020-05-22  0.847205  0.803796  0.487027  0.153419"
      ]
     },
     "execution_count": 26,
     "metadata": {},
     "output_type": "execute_result"
    }
   ],
   "source": [
    "#How to view data using pandas library?\n",
    "df.head()\n",
    "#head() function gives the first five values of the dataframe"
   ]
  },
  {
   "cell_type": "code",
   "execution_count": 27,
   "metadata": {},
   "outputs": [
    {
     "data": {
      "text/html": [
       "<div>\n",
       "<style scoped>\n",
       "    .dataframe tbody tr th:only-of-type {\n",
       "        vertical-align: middle;\n",
       "    }\n",
       "\n",
       "    .dataframe tbody tr th {\n",
       "        vertical-align: top;\n",
       "    }\n",
       "\n",
       "    .dataframe thead th {\n",
       "        text-align: right;\n",
       "    }\n",
       "</style>\n",
       "<table border=\"1\" class=\"dataframe\">\n",
       "  <thead>\n",
       "    <tr style=\"text-align: right;\">\n",
       "      <th></th>\n",
       "      <th>A</th>\n",
       "      <th>B</th>\n",
       "      <th>C</th>\n",
       "      <th>D</th>\n",
       "    </tr>\n",
       "  </thead>\n",
       "  <tbody>\n",
       "    <tr>\n",
       "      <td>2020-05-23</td>\n",
       "      <td>1.360131</td>\n",
       "      <td>0.033279</td>\n",
       "      <td>0.203111</td>\n",
       "      <td>1.883209</td>\n",
       "    </tr>\n",
       "    <tr>\n",
       "      <td>2020-05-24</td>\n",
       "      <td>-0.356005</td>\n",
       "      <td>0.741928</td>\n",
       "      <td>-0.220938</td>\n",
       "      <td>-0.605966</td>\n",
       "    </tr>\n",
       "    <tr>\n",
       "      <td>2020-05-25</td>\n",
       "      <td>-1.102830</td>\n",
       "      <td>-0.772870</td>\n",
       "      <td>1.049102</td>\n",
       "      <td>-1.638645</td>\n",
       "    </tr>\n",
       "    <tr>\n",
       "      <td>2020-05-26</td>\n",
       "      <td>-1.490392</td>\n",
       "      <td>-1.466000</td>\n",
       "      <td>0.835512</td>\n",
       "      <td>0.460684</td>\n",
       "    </tr>\n",
       "    <tr>\n",
       "      <td>2020-05-27</td>\n",
       "      <td>0.470127</td>\n",
       "      <td>-1.329781</td>\n",
       "      <td>1.143306</td>\n",
       "      <td>-1.676731</td>\n",
       "    </tr>\n",
       "  </tbody>\n",
       "</table>\n",
       "</div>"
      ],
      "text/plain": [
       "                   A         B         C         D\n",
       "2020-05-23  1.360131  0.033279  0.203111  1.883209\n",
       "2020-05-24 -0.356005  0.741928 -0.220938 -0.605966\n",
       "2020-05-25 -1.102830 -0.772870  1.049102 -1.638645\n",
       "2020-05-26 -1.490392 -1.466000  0.835512  0.460684\n",
       "2020-05-27  0.470127 -1.329781  1.143306 -1.676731"
      ]
     },
     "execution_count": 27,
     "metadata": {},
     "output_type": "execute_result"
    }
   ],
   "source": [
    "df.tail()\n",
    "#tail() function gives the last rows of the dataframe"
   ]
  },
  {
   "cell_type": "code",
   "execution_count": 35,
   "metadata": {},
   "outputs": [
    {
     "data": {
      "text/plain": [
       "DatetimeIndex(['2020-05-18', '2020-05-19', '2020-05-20', '2020-05-21',\n",
       "               '2020-05-22', '2020-05-23', '2020-05-24', '2020-05-25',\n",
       "               '2020-05-26', '2020-05-27'],\n",
       "              dtype='datetime64[ns]', freq='D')"
      ]
     },
     "execution_count": 35,
     "metadata": {},
     "output_type": "execute_result"
    }
   ],
   "source": [
    "#gettig the index values\n",
    "df.index"
   ]
  },
  {
   "cell_type": "code",
   "execution_count": 36,
   "metadata": {},
   "outputs": [
    {
     "data": {
      "text/plain": [
       "Index(['A', 'B', 'C', 'D'], dtype='object')"
      ]
     },
     "execution_count": 36,
     "metadata": {},
     "output_type": "execute_result"
    }
   ],
   "source": [
    "df.columns"
   ]
  },
  {
   "cell_type": "code",
   "execution_count": 37,
   "metadata": {},
   "outputs": [
    {
     "data": {
      "text/html": [
       "<div>\n",
       "<style scoped>\n",
       "    .dataframe tbody tr th:only-of-type {\n",
       "        vertical-align: middle;\n",
       "    }\n",
       "\n",
       "    .dataframe tbody tr th {\n",
       "        vertical-align: top;\n",
       "    }\n",
       "\n",
       "    .dataframe thead th {\n",
       "        text-align: right;\n",
       "    }\n",
       "</style>\n",
       "<table border=\"1\" class=\"dataframe\">\n",
       "  <thead>\n",
       "    <tr style=\"text-align: right;\">\n",
       "      <th></th>\n",
       "      <th>A</th>\n",
       "      <th>B</th>\n",
       "      <th>C</th>\n",
       "      <th>D</th>\n",
       "      <th>E</th>\n",
       "      <th>F</th>\n",
       "    </tr>\n",
       "  </thead>\n",
       "  <tbody>\n",
       "    <tr>\n",
       "      <td>0</td>\n",
       "      <td>1</td>\n",
       "      <td>2020-05-18</td>\n",
       "      <td>1.0</td>\n",
       "      <td>5</td>\n",
       "      <td>true</td>\n",
       "      <td>Machine Learning</td>\n",
       "    </tr>\n",
       "    <tr>\n",
       "      <td>1</td>\n",
       "      <td>2</td>\n",
       "      <td>2020-05-18</td>\n",
       "      <td>1.0</td>\n",
       "      <td>5</td>\n",
       "      <td>False</td>\n",
       "      <td>Machine Learning</td>\n",
       "    </tr>\n",
       "  </tbody>\n",
       "</table>\n",
       "</div>"
      ],
      "text/plain": [
       "   A          B    C  D      E                 F\n",
       "0  1 2020-05-18  1.0  5   true  Machine Learning\n",
       "1  2 2020-05-18  1.0  5  False  Machine Learning"
      ]
     },
     "execution_count": 37,
     "metadata": {},
     "output_type": "execute_result"
    }
   ],
   "source": [
    "#To view only some specific part of the dataframe\n",
    "df1.head(2)"
   ]
  },
  {
   "cell_type": "code",
   "execution_count": 38,
   "metadata": {},
   "outputs": [
    {
     "data": {
      "text/html": [
       "<div>\n",
       "<style scoped>\n",
       "    .dataframe tbody tr th:only-of-type {\n",
       "        vertical-align: middle;\n",
       "    }\n",
       "\n",
       "    .dataframe tbody tr th {\n",
       "        vertical-align: top;\n",
       "    }\n",
       "\n",
       "    .dataframe thead th {\n",
       "        text-align: right;\n",
       "    }\n",
       "</style>\n",
       "<table border=\"1\" class=\"dataframe\">\n",
       "  <thead>\n",
       "    <tr style=\"text-align: right;\">\n",
       "      <th></th>\n",
       "      <th>A</th>\n",
       "      <th>B</th>\n",
       "      <th>C</th>\n",
       "      <th>D</th>\n",
       "      <th>E</th>\n",
       "      <th>F</th>\n",
       "    </tr>\n",
       "  </thead>\n",
       "  <tbody>\n",
       "    <tr>\n",
       "      <td>2</td>\n",
       "      <td>3</td>\n",
       "      <td>2020-05-18</td>\n",
       "      <td>1.0</td>\n",
       "      <td>5</td>\n",
       "      <td>True</td>\n",
       "      <td>Machine Learning</td>\n",
       "    </tr>\n",
       "    <tr>\n",
       "      <td>3</td>\n",
       "      <td>4</td>\n",
       "      <td>2020-05-18</td>\n",
       "      <td>1.0</td>\n",
       "      <td>5</td>\n",
       "      <td>false</td>\n",
       "      <td>Machine Learning</td>\n",
       "    </tr>\n",
       "  </tbody>\n",
       "</table>\n",
       "</div>"
      ],
      "text/plain": [
       "   A          B    C  D      E                 F\n",
       "2  3 2020-05-18  1.0  5   True  Machine Learning\n",
       "3  4 2020-05-18  1.0  5  false  Machine Learning"
      ]
     },
     "execution_count": 38,
     "metadata": {},
     "output_type": "execute_result"
    }
   ],
   "source": [
    "df1.tail(2)"
   ]
  },
  {
   "cell_type": "code",
   "execution_count": 39,
   "metadata": {},
   "outputs": [
    {
     "data": {
      "text/plain": [
       "A             int64\n",
       "B    datetime64[ns]\n",
       "C           float32\n",
       "D             int32\n",
       "E          category\n",
       "F            object\n",
       "dtype: object"
      ]
     },
     "execution_count": 39,
     "metadata": {},
     "output_type": "execute_result"
    }
   ],
   "source": [
    "df1.dtypes"
   ]
  },
  {
   "cell_type": "code",
   "execution_count": 40,
   "metadata": {},
   "outputs": [
    {
     "data": {
      "text/plain": [
       "Int64Index([0, 1, 2, 3], dtype='int64')"
      ]
     },
     "execution_count": 40,
     "metadata": {},
     "output_type": "execute_result"
    }
   ],
   "source": [
    "df1.index"
   ]
  },
  {
   "cell_type": "code",
   "execution_count": 41,
   "metadata": {},
   "outputs": [
    {
     "data": {
      "text/plain": [
       "Index(['A', 'B', 'C', 'D', 'E', 'F'], dtype='object')"
      ]
     },
     "execution_count": 41,
     "metadata": {},
     "output_type": "execute_result"
    }
   ],
   "source": [
    "df1.columns"
   ]
  },
  {
   "cell_type": "code",
   "execution_count": 44,
   "metadata": {},
   "outputs": [
    {
     "data": {
      "text/plain": [
       "array([[ 0.00349439,  2.15400352, -0.07017717,  0.04642183],\n",
       "       [-0.33839414, -1.34959989,  0.09764193,  0.37740314],\n",
       "       [ 0.11254853,  0.77491424,  0.93913044,  0.7109216 ],\n",
       "       [-0.55938967,  1.89743394, -1.46562253, -0.22017624],\n",
       "       [ 0.84720463,  0.80379562,  0.48702675,  0.15341888],\n",
       "       [ 1.36013096,  0.0332793 ,  0.20311141,  1.88320873],\n",
       "       [-0.35600496,  0.74192761, -0.22093788, -0.6059657 ],\n",
       "       [-1.10282959, -0.77287046,  1.04910208, -1.63864476],\n",
       "       [-1.49039205, -1.46599955,  0.83551193,  0.46068402],\n",
       "       [ 0.47012697, -1.32978062,  1.14330591, -1.67673135]])"
      ]
     },
     "execution_count": 44,
     "metadata": {},
     "output_type": "execute_result"
    }
   ],
   "source": [
    "#Numpy representation of the dataframe\n",
    "df.to_numpy()"
   ]
  },
  {
   "cell_type": "code",
   "execution_count": 46,
   "metadata": {},
   "outputs": [
    {
     "data": {
      "text/html": [
       "<div>\n",
       "<style scoped>\n",
       "    .dataframe tbody tr th:only-of-type {\n",
       "        vertical-align: middle;\n",
       "    }\n",
       "\n",
       "    .dataframe tbody tr th {\n",
       "        vertical-align: top;\n",
       "    }\n",
       "\n",
       "    .dataframe thead th {\n",
       "        text-align: right;\n",
       "    }\n",
       "</style>\n",
       "<table border=\"1\" class=\"dataframe\">\n",
       "  <thead>\n",
       "    <tr style=\"text-align: right;\">\n",
       "      <th></th>\n",
       "      <th>A</th>\n",
       "      <th>B</th>\n",
       "      <th>C</th>\n",
       "      <th>D</th>\n",
       "    </tr>\n",
       "  </thead>\n",
       "  <tbody>\n",
       "    <tr>\n",
       "      <td>count</td>\n",
       "      <td>10.000000</td>\n",
       "      <td>10.000000</td>\n",
       "      <td>10.000000</td>\n",
       "      <td>10.000000</td>\n",
       "    </tr>\n",
       "    <tr>\n",
       "      <td>mean</td>\n",
       "      <td>-0.105350</td>\n",
       "      <td>0.148710</td>\n",
       "      <td>0.299809</td>\n",
       "      <td>-0.050946</td>\n",
       "    </tr>\n",
       "    <tr>\n",
       "      <td>std</td>\n",
       "      <td>0.861658</td>\n",
       "      <td>1.339702</td>\n",
       "      <td>0.787311</td>\n",
       "      <td>1.070750</td>\n",
       "    </tr>\n",
       "    <tr>\n",
       "      <td>min</td>\n",
       "      <td>-1.490392</td>\n",
       "      <td>-1.466000</td>\n",
       "      <td>-1.465623</td>\n",
       "      <td>-1.676731</td>\n",
       "    </tr>\n",
       "    <tr>\n",
       "      <td>25%</td>\n",
       "      <td>-0.508543</td>\n",
       "      <td>-1.190553</td>\n",
       "      <td>-0.028222</td>\n",
       "      <td>-0.509518</td>\n",
       "    </tr>\n",
       "    <tr>\n",
       "      <td>50%</td>\n",
       "      <td>-0.167450</td>\n",
       "      <td>0.387603</td>\n",
       "      <td>0.345069</td>\n",
       "      <td>0.099920</td>\n",
       "    </tr>\n",
       "    <tr>\n",
       "      <td>75%</td>\n",
       "      <td>0.380732</td>\n",
       "      <td>0.796575</td>\n",
       "      <td>0.913226</td>\n",
       "      <td>0.439864</td>\n",
       "    </tr>\n",
       "    <tr>\n",
       "      <td>max</td>\n",
       "      <td>1.360131</td>\n",
       "      <td>2.154004</td>\n",
       "      <td>1.143306</td>\n",
       "      <td>1.883209</td>\n",
       "    </tr>\n",
       "  </tbody>\n",
       "</table>\n",
       "</div>"
      ],
      "text/plain": [
       "               A          B          C          D\n",
       "count  10.000000  10.000000  10.000000  10.000000\n",
       "mean   -0.105350   0.148710   0.299809  -0.050946\n",
       "std     0.861658   1.339702   0.787311   1.070750\n",
       "min    -1.490392  -1.466000  -1.465623  -1.676731\n",
       "25%    -0.508543  -1.190553  -0.028222  -0.509518\n",
       "50%    -0.167450   0.387603   0.345069   0.099920\n",
       "75%     0.380732   0.796575   0.913226   0.439864\n",
       "max     1.360131   2.154004   1.143306   1.883209"
      ]
     },
     "execution_count": 46,
     "metadata": {},
     "output_type": "execute_result"
    }
   ],
   "source": [
    "#getting a description of the dataframe \n",
    "df.describe()"
   ]
  },
  {
   "cell_type": "code",
   "execution_count": 54,
   "metadata": {},
   "outputs": [
    {
     "data": {
      "text/html": [
       "<div>\n",
       "<style scoped>\n",
       "    .dataframe tbody tr th:only-of-type {\n",
       "        vertical-align: middle;\n",
       "    }\n",
       "\n",
       "    .dataframe tbody tr th {\n",
       "        vertical-align: top;\n",
       "    }\n",
       "\n",
       "    .dataframe thead th {\n",
       "        text-align: right;\n",
       "    }\n",
       "</style>\n",
       "<table border=\"1\" class=\"dataframe\">\n",
       "  <thead>\n",
       "    <tr style=\"text-align: right;\">\n",
       "      <th></th>\n",
       "      <th>A</th>\n",
       "      <th>B</th>\n",
       "      <th>C</th>\n",
       "      <th>D</th>\n",
       "    </tr>\n",
       "  </thead>\n",
       "  <tbody>\n",
       "    <tr>\n",
       "      <td>2020-05-18</td>\n",
       "      <td>0.003494</td>\n",
       "      <td>2.154004</td>\n",
       "      <td>-0.070177</td>\n",
       "      <td>0.046422</td>\n",
       "    </tr>\n",
       "    <tr>\n",
       "      <td>2020-05-19</td>\n",
       "      <td>-0.338394</td>\n",
       "      <td>-1.349600</td>\n",
       "      <td>0.097642</td>\n",
       "      <td>0.377403</td>\n",
       "    </tr>\n",
       "    <tr>\n",
       "      <td>2020-05-20</td>\n",
       "      <td>0.112549</td>\n",
       "      <td>0.774914</td>\n",
       "      <td>0.939130</td>\n",
       "      <td>0.710922</td>\n",
       "    </tr>\n",
       "    <tr>\n",
       "      <td>2020-05-21</td>\n",
       "      <td>-0.559390</td>\n",
       "      <td>1.897434</td>\n",
       "      <td>-1.465623</td>\n",
       "      <td>-0.220176</td>\n",
       "    </tr>\n",
       "    <tr>\n",
       "      <td>2020-05-22</td>\n",
       "      <td>0.847205</td>\n",
       "      <td>0.803796</td>\n",
       "      <td>0.487027</td>\n",
       "      <td>0.153419</td>\n",
       "    </tr>\n",
       "    <tr>\n",
       "      <td>2020-05-23</td>\n",
       "      <td>1.360131</td>\n",
       "      <td>0.033279</td>\n",
       "      <td>0.203111</td>\n",
       "      <td>1.883209</td>\n",
       "    </tr>\n",
       "    <tr>\n",
       "      <td>2020-05-24</td>\n",
       "      <td>-0.356005</td>\n",
       "      <td>0.741928</td>\n",
       "      <td>-0.220938</td>\n",
       "      <td>-0.605966</td>\n",
       "    </tr>\n",
       "    <tr>\n",
       "      <td>2020-05-25</td>\n",
       "      <td>-1.102830</td>\n",
       "      <td>-0.772870</td>\n",
       "      <td>1.049102</td>\n",
       "      <td>-1.638645</td>\n",
       "    </tr>\n",
       "    <tr>\n",
       "      <td>2020-05-26</td>\n",
       "      <td>-1.490392</td>\n",
       "      <td>-1.466000</td>\n",
       "      <td>0.835512</td>\n",
       "      <td>0.460684</td>\n",
       "    </tr>\n",
       "    <tr>\n",
       "      <td>2020-05-27</td>\n",
       "      <td>0.470127</td>\n",
       "      <td>-1.329781</td>\n",
       "      <td>1.143306</td>\n",
       "      <td>-1.676731</td>\n",
       "    </tr>\n",
       "  </tbody>\n",
       "</table>\n",
       "</div>"
      ],
      "text/plain": [
       "                   A         B         C         D\n",
       "2020-05-18  0.003494  2.154004 -0.070177  0.046422\n",
       "2020-05-19 -0.338394 -1.349600  0.097642  0.377403\n",
       "2020-05-20  0.112549  0.774914  0.939130  0.710922\n",
       "2020-05-21 -0.559390  1.897434 -1.465623 -0.220176\n",
       "2020-05-22  0.847205  0.803796  0.487027  0.153419\n",
       "2020-05-23  1.360131  0.033279  0.203111  1.883209\n",
       "2020-05-24 -0.356005  0.741928 -0.220938 -0.605966\n",
       "2020-05-25 -1.102830 -0.772870  1.049102 -1.638645\n",
       "2020-05-26 -1.490392 -1.466000  0.835512  0.460684\n",
       "2020-05-27  0.470127 -1.329781  1.143306 -1.676731"
      ]
     },
     "execution_count": 54,
     "metadata": {},
     "output_type": "execute_result"
    }
   ],
   "source": [
    "#Sorting data by an access in a dataframe\n",
    "df.sort_index(axis=1,ascending=True)"
   ]
  },
  {
   "cell_type": "code",
   "execution_count": 55,
   "metadata": {},
   "outputs": [
    {
     "data": {
      "text/html": [
       "<div>\n",
       "<style scoped>\n",
       "    .dataframe tbody tr th:only-of-type {\n",
       "        vertical-align: middle;\n",
       "    }\n",
       "\n",
       "    .dataframe tbody tr th {\n",
       "        vertical-align: top;\n",
       "    }\n",
       "\n",
       "    .dataframe thead th {\n",
       "        text-align: right;\n",
       "    }\n",
       "</style>\n",
       "<table border=\"1\" class=\"dataframe\">\n",
       "  <thead>\n",
       "    <tr style=\"text-align: right;\">\n",
       "      <th></th>\n",
       "      <th>D</th>\n",
       "      <th>C</th>\n",
       "      <th>B</th>\n",
       "      <th>A</th>\n",
       "    </tr>\n",
       "  </thead>\n",
       "  <tbody>\n",
       "    <tr>\n",
       "      <td>2020-05-18</td>\n",
       "      <td>0.046422</td>\n",
       "      <td>-0.070177</td>\n",
       "      <td>2.154004</td>\n",
       "      <td>0.003494</td>\n",
       "    </tr>\n",
       "    <tr>\n",
       "      <td>2020-05-19</td>\n",
       "      <td>0.377403</td>\n",
       "      <td>0.097642</td>\n",
       "      <td>-1.349600</td>\n",
       "      <td>-0.338394</td>\n",
       "    </tr>\n",
       "    <tr>\n",
       "      <td>2020-05-20</td>\n",
       "      <td>0.710922</td>\n",
       "      <td>0.939130</td>\n",
       "      <td>0.774914</td>\n",
       "      <td>0.112549</td>\n",
       "    </tr>\n",
       "    <tr>\n",
       "      <td>2020-05-21</td>\n",
       "      <td>-0.220176</td>\n",
       "      <td>-1.465623</td>\n",
       "      <td>1.897434</td>\n",
       "      <td>-0.559390</td>\n",
       "    </tr>\n",
       "    <tr>\n",
       "      <td>2020-05-22</td>\n",
       "      <td>0.153419</td>\n",
       "      <td>0.487027</td>\n",
       "      <td>0.803796</td>\n",
       "      <td>0.847205</td>\n",
       "    </tr>\n",
       "    <tr>\n",
       "      <td>2020-05-23</td>\n",
       "      <td>1.883209</td>\n",
       "      <td>0.203111</td>\n",
       "      <td>0.033279</td>\n",
       "      <td>1.360131</td>\n",
       "    </tr>\n",
       "    <tr>\n",
       "      <td>2020-05-24</td>\n",
       "      <td>-0.605966</td>\n",
       "      <td>-0.220938</td>\n",
       "      <td>0.741928</td>\n",
       "      <td>-0.356005</td>\n",
       "    </tr>\n",
       "    <tr>\n",
       "      <td>2020-05-25</td>\n",
       "      <td>-1.638645</td>\n",
       "      <td>1.049102</td>\n",
       "      <td>-0.772870</td>\n",
       "      <td>-1.102830</td>\n",
       "    </tr>\n",
       "    <tr>\n",
       "      <td>2020-05-26</td>\n",
       "      <td>0.460684</td>\n",
       "      <td>0.835512</td>\n",
       "      <td>-1.466000</td>\n",
       "      <td>-1.490392</td>\n",
       "    </tr>\n",
       "    <tr>\n",
       "      <td>2020-05-27</td>\n",
       "      <td>-1.676731</td>\n",
       "      <td>1.143306</td>\n",
       "      <td>-1.329781</td>\n",
       "      <td>0.470127</td>\n",
       "    </tr>\n",
       "  </tbody>\n",
       "</table>\n",
       "</div>"
      ],
      "text/plain": [
       "                   D         C         B         A\n",
       "2020-05-18  0.046422 -0.070177  2.154004  0.003494\n",
       "2020-05-19  0.377403  0.097642 -1.349600 -0.338394\n",
       "2020-05-20  0.710922  0.939130  0.774914  0.112549\n",
       "2020-05-21 -0.220176 -1.465623  1.897434 -0.559390\n",
       "2020-05-22  0.153419  0.487027  0.803796  0.847205\n",
       "2020-05-23  1.883209  0.203111  0.033279  1.360131\n",
       "2020-05-24 -0.605966 -0.220938  0.741928 -0.356005\n",
       "2020-05-25 -1.638645  1.049102 -0.772870 -1.102830\n",
       "2020-05-26  0.460684  0.835512 -1.466000 -1.490392\n",
       "2020-05-27 -1.676731  1.143306 -1.329781  0.470127"
      ]
     },
     "execution_count": 55,
     "metadata": {},
     "output_type": "execute_result"
    }
   ],
   "source": [
    "df.sort_index(axis=1,ascending=False)"
   ]
  },
  {
   "cell_type": "code",
   "execution_count": 57,
   "metadata": {},
   "outputs": [
    {
     "data": {
      "text/html": [
       "<div>\n",
       "<style scoped>\n",
       "    .dataframe tbody tr th:only-of-type {\n",
       "        vertical-align: middle;\n",
       "    }\n",
       "\n",
       "    .dataframe tbody tr th {\n",
       "        vertical-align: top;\n",
       "    }\n",
       "\n",
       "    .dataframe thead th {\n",
       "        text-align: right;\n",
       "    }\n",
       "</style>\n",
       "<table border=\"1\" class=\"dataframe\">\n",
       "  <thead>\n",
       "    <tr style=\"text-align: right;\">\n",
       "      <th></th>\n",
       "      <th>A</th>\n",
       "      <th>B</th>\n",
       "      <th>C</th>\n",
       "      <th>D</th>\n",
       "    </tr>\n",
       "  </thead>\n",
       "  <tbody>\n",
       "    <tr>\n",
       "      <td>2020-05-21</td>\n",
       "      <td>-0.559390</td>\n",
       "      <td>1.897434</td>\n",
       "      <td>-1.465623</td>\n",
       "      <td>-0.220176</td>\n",
       "    </tr>\n",
       "    <tr>\n",
       "      <td>2020-05-24</td>\n",
       "      <td>-0.356005</td>\n",
       "      <td>0.741928</td>\n",
       "      <td>-0.220938</td>\n",
       "      <td>-0.605966</td>\n",
       "    </tr>\n",
       "    <tr>\n",
       "      <td>2020-05-18</td>\n",
       "      <td>0.003494</td>\n",
       "      <td>2.154004</td>\n",
       "      <td>-0.070177</td>\n",
       "      <td>0.046422</td>\n",
       "    </tr>\n",
       "    <tr>\n",
       "      <td>2020-05-19</td>\n",
       "      <td>-0.338394</td>\n",
       "      <td>-1.349600</td>\n",
       "      <td>0.097642</td>\n",
       "      <td>0.377403</td>\n",
       "    </tr>\n",
       "    <tr>\n",
       "      <td>2020-05-23</td>\n",
       "      <td>1.360131</td>\n",
       "      <td>0.033279</td>\n",
       "      <td>0.203111</td>\n",
       "      <td>1.883209</td>\n",
       "    </tr>\n",
       "    <tr>\n",
       "      <td>2020-05-22</td>\n",
       "      <td>0.847205</td>\n",
       "      <td>0.803796</td>\n",
       "      <td>0.487027</td>\n",
       "      <td>0.153419</td>\n",
       "    </tr>\n",
       "    <tr>\n",
       "      <td>2020-05-26</td>\n",
       "      <td>-1.490392</td>\n",
       "      <td>-1.466000</td>\n",
       "      <td>0.835512</td>\n",
       "      <td>0.460684</td>\n",
       "    </tr>\n",
       "    <tr>\n",
       "      <td>2020-05-20</td>\n",
       "      <td>0.112549</td>\n",
       "      <td>0.774914</td>\n",
       "      <td>0.939130</td>\n",
       "      <td>0.710922</td>\n",
       "    </tr>\n",
       "    <tr>\n",
       "      <td>2020-05-25</td>\n",
       "      <td>-1.102830</td>\n",
       "      <td>-0.772870</td>\n",
       "      <td>1.049102</td>\n",
       "      <td>-1.638645</td>\n",
       "    </tr>\n",
       "    <tr>\n",
       "      <td>2020-05-27</td>\n",
       "      <td>0.470127</td>\n",
       "      <td>-1.329781</td>\n",
       "      <td>1.143306</td>\n",
       "      <td>-1.676731</td>\n",
       "    </tr>\n",
       "  </tbody>\n",
       "</table>\n",
       "</div>"
      ],
      "text/plain": [
       "                   A         B         C         D\n",
       "2020-05-21 -0.559390  1.897434 -1.465623 -0.220176\n",
       "2020-05-24 -0.356005  0.741928 -0.220938 -0.605966\n",
       "2020-05-18  0.003494  2.154004 -0.070177  0.046422\n",
       "2020-05-19 -0.338394 -1.349600  0.097642  0.377403\n",
       "2020-05-23  1.360131  0.033279  0.203111  1.883209\n",
       "2020-05-22  0.847205  0.803796  0.487027  0.153419\n",
       "2020-05-26 -1.490392 -1.466000  0.835512  0.460684\n",
       "2020-05-20  0.112549  0.774914  0.939130  0.710922\n",
       "2020-05-25 -1.102830 -0.772870  1.049102 -1.638645\n",
       "2020-05-27  0.470127 -1.329781  1.143306 -1.676731"
      ]
     },
     "execution_count": 57,
     "metadata": {},
     "output_type": "execute_result"
    }
   ],
   "source": [
    "#Sorting dataframe by a particular value\n",
    "df.sort_values(by='C')"
   ]
  },
  {
   "cell_type": "code",
   "execution_count": 58,
   "metadata": {},
   "outputs": [
    {
     "data": {
      "text/plain": [
       "2020-05-18   -0.070177\n",
       "2020-05-19    0.097642\n",
       "2020-05-20    0.939130\n",
       "2020-05-21   -1.465623\n",
       "2020-05-22    0.487027\n",
       "2020-05-23    0.203111\n",
       "2020-05-24   -0.220938\n",
       "2020-05-25    1.049102\n",
       "2020-05-26    0.835512\n",
       "2020-05-27    1.143306\n",
       "Freq: D, Name: C, dtype: float64"
      ]
     },
     "execution_count": 58,
     "metadata": {},
     "output_type": "execute_result"
    }
   ],
   "source": [
    "#Selecting a single column from the dataframe \n",
    "df['C']"
   ]
  },
  {
   "cell_type": "code",
   "execution_count": 64,
   "metadata": {},
   "outputs": [
    {
     "data": {
      "text/html": [
       "<div>\n",
       "<style scoped>\n",
       "    .dataframe tbody tr th:only-of-type {\n",
       "        vertical-align: middle;\n",
       "    }\n",
       "\n",
       "    .dataframe tbody tr th {\n",
       "        vertical-align: top;\n",
       "    }\n",
       "\n",
       "    .dataframe thead th {\n",
       "        text-align: right;\n",
       "    }\n",
       "</style>\n",
       "<table border=\"1\" class=\"dataframe\">\n",
       "  <thead>\n",
       "    <tr style=\"text-align: right;\">\n",
       "      <th></th>\n",
       "      <th>A</th>\n",
       "      <th>B</th>\n",
       "      <th>C</th>\n",
       "      <th>D</th>\n",
       "    </tr>\n",
       "  </thead>\n",
       "  <tbody>\n",
       "    <tr>\n",
       "      <td>2020-05-18</td>\n",
       "      <td>0.003494</td>\n",
       "      <td>2.154004</td>\n",
       "      <td>-0.070177</td>\n",
       "      <td>0.046422</td>\n",
       "    </tr>\n",
       "    <tr>\n",
       "      <td>2020-05-19</td>\n",
       "      <td>-0.338394</td>\n",
       "      <td>-1.349600</td>\n",
       "      <td>0.097642</td>\n",
       "      <td>0.377403</td>\n",
       "    </tr>\n",
       "    <tr>\n",
       "      <td>2020-05-20</td>\n",
       "      <td>0.112549</td>\n",
       "      <td>0.774914</td>\n",
       "      <td>0.939130</td>\n",
       "      <td>0.710922</td>\n",
       "    </tr>\n",
       "  </tbody>\n",
       "</table>\n",
       "</div>"
      ],
      "text/plain": [
       "                   A         B         C         D\n",
       "2020-05-18  0.003494  2.154004 -0.070177  0.046422\n",
       "2020-05-19 -0.338394 -1.349600  0.097642  0.377403\n",
       "2020-05-20  0.112549  0.774914  0.939130  0.710922"
      ]
     },
     "execution_count": 64,
     "metadata": {},
     "output_type": "execute_result"
    }
   ],
   "source": [
    "#slicing the rows \n",
    "df[0:3:]"
   ]
  },
  {
   "cell_type": "code",
   "execution_count": 67,
   "metadata": {},
   "outputs": [
    {
     "data": {
      "text/plain": [
       "A    0.003494\n",
       "B    2.154004\n",
       "C   -0.070177\n",
       "D    0.046422\n",
       "Name: 2020-05-18 00:00:00, dtype: float64"
      ]
     },
     "execution_count": 67,
     "metadata": {},
     "output_type": "execute_result"
    }
   ],
   "source": [
    "#selecting the data using lables \n",
    "df.loc[d[0]]"
   ]
  },
  {
   "cell_type": "code",
   "execution_count": 71,
   "metadata": {},
   "outputs": [
    {
     "data": {
      "text/html": [
       "<div>\n",
       "<style scoped>\n",
       "    .dataframe tbody tr th:only-of-type {\n",
       "        vertical-align: middle;\n",
       "    }\n",
       "\n",
       "    .dataframe tbody tr th {\n",
       "        vertical-align: top;\n",
       "    }\n",
       "\n",
       "    .dataframe thead th {\n",
       "        text-align: right;\n",
       "    }\n",
       "</style>\n",
       "<table border=\"1\" class=\"dataframe\">\n",
       "  <thead>\n",
       "    <tr style=\"text-align: right;\">\n",
       "      <th></th>\n",
       "      <th>A</th>\n",
       "      <th>C</th>\n",
       "    </tr>\n",
       "  </thead>\n",
       "  <tbody>\n",
       "    <tr>\n",
       "      <td>2020-05-18</td>\n",
       "      <td>0.003494</td>\n",
       "      <td>-0.070177</td>\n",
       "    </tr>\n",
       "    <tr>\n",
       "      <td>2020-05-19</td>\n",
       "      <td>-0.338394</td>\n",
       "      <td>0.097642</td>\n",
       "    </tr>\n",
       "    <tr>\n",
       "      <td>2020-05-20</td>\n",
       "      <td>0.112549</td>\n",
       "      <td>0.939130</td>\n",
       "    </tr>\n",
       "    <tr>\n",
       "      <td>2020-05-21</td>\n",
       "      <td>-0.559390</td>\n",
       "      <td>-1.465623</td>\n",
       "    </tr>\n",
       "    <tr>\n",
       "      <td>2020-05-22</td>\n",
       "      <td>0.847205</td>\n",
       "      <td>0.487027</td>\n",
       "    </tr>\n",
       "    <tr>\n",
       "      <td>2020-05-23</td>\n",
       "      <td>1.360131</td>\n",
       "      <td>0.203111</td>\n",
       "    </tr>\n",
       "    <tr>\n",
       "      <td>2020-05-24</td>\n",
       "      <td>-0.356005</td>\n",
       "      <td>-0.220938</td>\n",
       "    </tr>\n",
       "    <tr>\n",
       "      <td>2020-05-25</td>\n",
       "      <td>-1.102830</td>\n",
       "      <td>1.049102</td>\n",
       "    </tr>\n",
       "    <tr>\n",
       "      <td>2020-05-26</td>\n",
       "      <td>-1.490392</td>\n",
       "      <td>0.835512</td>\n",
       "    </tr>\n",
       "    <tr>\n",
       "      <td>2020-05-27</td>\n",
       "      <td>0.470127</td>\n",
       "      <td>1.143306</td>\n",
       "    </tr>\n",
       "  </tbody>\n",
       "</table>\n",
       "</div>"
      ],
      "text/plain": [
       "                   A         C\n",
       "2020-05-18  0.003494 -0.070177\n",
       "2020-05-19 -0.338394  0.097642\n",
       "2020-05-20  0.112549  0.939130\n",
       "2020-05-21 -0.559390 -1.465623\n",
       "2020-05-22  0.847205  0.487027\n",
       "2020-05-23  1.360131  0.203111\n",
       "2020-05-24 -0.356005 -0.220938\n",
       "2020-05-25 -1.102830  1.049102\n",
       "2020-05-26 -1.490392  0.835512\n",
       "2020-05-27  0.470127  1.143306"
      ]
     },
     "execution_count": 71,
     "metadata": {},
     "output_type": "execute_result"
    }
   ],
   "source": [
    "#selecting data on a multi axis by label\n",
    "df.loc[:,['A','C']]"
   ]
  },
  {
   "cell_type": "code",
   "execution_count": 72,
   "metadata": {},
   "outputs": [
    {
     "data": {
      "text/html": [
       "<div>\n",
       "<style scoped>\n",
       "    .dataframe tbody tr th:only-of-type {\n",
       "        vertical-align: middle;\n",
       "    }\n",
       "\n",
       "    .dataframe tbody tr th {\n",
       "        vertical-align: top;\n",
       "    }\n",
       "\n",
       "    .dataframe thead th {\n",
       "        text-align: right;\n",
       "    }\n",
       "</style>\n",
       "<table border=\"1\" class=\"dataframe\">\n",
       "  <thead>\n",
       "    <tr style=\"text-align: right;\">\n",
       "      <th></th>\n",
       "      <th>A</th>\n",
       "      <th>C</th>\n",
       "    </tr>\n",
       "  </thead>\n",
       "  <tbody>\n",
       "    <tr>\n",
       "      <td>2020-05-18</td>\n",
       "      <td>0.003494</td>\n",
       "      <td>-0.070177</td>\n",
       "    </tr>\n",
       "    <tr>\n",
       "      <td>2020-05-19</td>\n",
       "      <td>-0.338394</td>\n",
       "      <td>0.097642</td>\n",
       "    </tr>\n",
       "    <tr>\n",
       "      <td>2020-05-20</td>\n",
       "      <td>0.112549</td>\n",
       "      <td>0.939130</td>\n",
       "    </tr>\n",
       "    <tr>\n",
       "      <td>2020-05-21</td>\n",
       "      <td>-0.559390</td>\n",
       "      <td>-1.465623</td>\n",
       "    </tr>\n",
       "    <tr>\n",
       "      <td>2020-05-22</td>\n",
       "      <td>0.847205</td>\n",
       "      <td>0.487027</td>\n",
       "    </tr>\n",
       "  </tbody>\n",
       "</table>\n",
       "</div>"
      ],
      "text/plain": [
       "                   A         C\n",
       "2020-05-18  0.003494 -0.070177\n",
       "2020-05-19 -0.338394  0.097642\n",
       "2020-05-20  0.112549  0.939130\n",
       "2020-05-21 -0.559390 -1.465623\n",
       "2020-05-22  0.847205  0.487027"
      ]
     },
     "execution_count": 72,
     "metadata": {},
     "output_type": "execute_result"
    }
   ],
   "source": [
    "#Getting the values at a range of indexes\n",
    "df.loc['20200518':'20200522',['A','C']]"
   ]
  },
  {
   "cell_type": "code",
   "execution_count": 74,
   "metadata": {},
   "outputs": [
    {
     "data": {
      "text/plain": [
       "A    0.847205\n",
       "C    0.487027\n",
       "Name: 2020-05-22 00:00:00, dtype: float64"
      ]
     },
     "execution_count": 74,
     "metadata": {},
     "output_type": "execute_result"
    }
   ],
   "source": [
    "#obtaining specific data from a particular index position and specific column labels\n",
    "df.loc['20200522',['A','C']]"
   ]
  },
  {
   "cell_type": "code",
   "execution_count": 78,
   "metadata": {},
   "outputs": [
    {
     "data": {
      "text/plain": [
       "-0.0701771653313348"
      ]
     },
     "execution_count": 78,
     "metadata": {},
     "output_type": "execute_result"
    }
   ],
   "source": [
    "# obtaining a scalar value from a particular column label\n",
    "df.at[d[0],'C']"
   ]
  },
  {
   "cell_type": "code",
   "execution_count": 79,
   "metadata": {},
   "outputs": [
    {
     "data": {
      "text/plain": [
       "A   -0.559390\n",
       "B    1.897434\n",
       "C   -1.465623\n",
       "D   -0.220176\n",
       "Name: 2020-05-21 00:00:00, dtype: float64"
      ]
     },
     "execution_count": 79,
     "metadata": {},
     "output_type": "execute_result"
    }
   ],
   "source": [
    "#obtaining a value by using a position in a dataframe \n",
    "df.iloc[3]"
   ]
  },
  {
   "cell_type": "code",
   "execution_count": 81,
   "metadata": {},
   "outputs": [
    {
     "data": {
      "text/html": [
       "<div>\n",
       "<style scoped>\n",
       "    .dataframe tbody tr th:only-of-type {\n",
       "        vertical-align: middle;\n",
       "    }\n",
       "\n",
       "    .dataframe tbody tr th {\n",
       "        vertical-align: top;\n",
       "    }\n",
       "\n",
       "    .dataframe thead th {\n",
       "        text-align: right;\n",
       "    }\n",
       "</style>\n",
       "<table border=\"1\" class=\"dataframe\">\n",
       "  <thead>\n",
       "    <tr style=\"text-align: right;\">\n",
       "      <th></th>\n",
       "      <th>A</th>\n",
       "      <th>B</th>\n",
       "      <th>C</th>\n",
       "      <th>D</th>\n",
       "    </tr>\n",
       "  </thead>\n",
       "  <tbody>\n",
       "    <tr>\n",
       "      <td>2020-05-21</td>\n",
       "      <td>-0.559390</td>\n",
       "      <td>1.897434</td>\n",
       "      <td>-1.465623</td>\n",
       "      <td>-0.220176</td>\n",
       "    </tr>\n",
       "    <tr>\n",
       "      <td>2020-05-22</td>\n",
       "      <td>0.847205</td>\n",
       "      <td>0.803796</td>\n",
       "      <td>0.487027</td>\n",
       "      <td>0.153419</td>\n",
       "    </tr>\n",
       "    <tr>\n",
       "      <td>2020-05-23</td>\n",
       "      <td>1.360131</td>\n",
       "      <td>0.033279</td>\n",
       "      <td>0.203111</td>\n",
       "      <td>1.883209</td>\n",
       "    </tr>\n",
       "  </tbody>\n",
       "</table>\n",
       "</div>"
      ],
      "text/plain": [
       "                   A         B         C         D\n",
       "2020-05-21 -0.559390  1.897434 -1.465623 -0.220176\n",
       "2020-05-22  0.847205  0.803796  0.487027  0.153419\n",
       "2020-05-23  1.360131  0.033279  0.203111  1.883209"
      ]
     },
     "execution_count": 81,
     "metadata": {},
     "output_type": "execute_result"
    }
   ],
   "source": [
    "#obtaining value by using a range of positions in a dataframe \n",
    "df.iloc[3:6]"
   ]
  },
  {
   "cell_type": "code",
   "execution_count": 84,
   "metadata": {},
   "outputs": [
    {
     "data": {
      "text/html": [
       "<div>\n",
       "<style scoped>\n",
       "    .dataframe tbody tr th:only-of-type {\n",
       "        vertical-align: middle;\n",
       "    }\n",
       "\n",
       "    .dataframe tbody tr th {\n",
       "        vertical-align: top;\n",
       "    }\n",
       "\n",
       "    .dataframe thead th {\n",
       "        text-align: right;\n",
       "    }\n",
       "</style>\n",
       "<table border=\"1\" class=\"dataframe\">\n",
       "  <thead>\n",
       "    <tr style=\"text-align: right;\">\n",
       "      <th></th>\n",
       "      <th>A</th>\n",
       "      <th>B</th>\n",
       "    </tr>\n",
       "  </thead>\n",
       "  <tbody>\n",
       "    <tr>\n",
       "      <td>2020-05-21</td>\n",
       "      <td>-0.559390</td>\n",
       "      <td>1.897434</td>\n",
       "    </tr>\n",
       "    <tr>\n",
       "      <td>2020-05-22</td>\n",
       "      <td>0.847205</td>\n",
       "      <td>0.803796</td>\n",
       "    </tr>\n",
       "    <tr>\n",
       "      <td>2020-05-23</td>\n",
       "      <td>1.360131</td>\n",
       "      <td>0.033279</td>\n",
       "    </tr>\n",
       "  </tbody>\n",
       "</table>\n",
       "</div>"
      ],
      "text/plain": [
       "                   A         B\n",
       "2020-05-21 -0.559390  1.897434\n",
       "2020-05-22  0.847205  0.803796\n",
       "2020-05-23  1.360131  0.033279"
      ]
     },
     "execution_count": 84,
     "metadata": {},
     "output_type": "execute_result"
    }
   ],
   "source": [
    "df.iloc[3:6,:2]"
   ]
  },
  {
   "cell_type": "code",
   "execution_count": 87,
   "metadata": {},
   "outputs": [
    {
     "data": {
      "text/html": [
       "<div>\n",
       "<style scoped>\n",
       "    .dataframe tbody tr th:only-of-type {\n",
       "        vertical-align: middle;\n",
       "    }\n",
       "\n",
       "    .dataframe tbody tr th {\n",
       "        vertical-align: top;\n",
       "    }\n",
       "\n",
       "    .dataframe thead th {\n",
       "        text-align: right;\n",
       "    }\n",
       "</style>\n",
       "<table border=\"1\" class=\"dataframe\">\n",
       "  <thead>\n",
       "    <tr style=\"text-align: right;\">\n",
       "      <th></th>\n",
       "      <th>A</th>\n",
       "      <th>B</th>\n",
       "      <th>C</th>\n",
       "      <th>D</th>\n",
       "    </tr>\n",
       "  </thead>\n",
       "  <tbody>\n",
       "    <tr>\n",
       "      <td>2020-05-23</td>\n",
       "      <td>1.360131</td>\n",
       "      <td>0.033279</td>\n",
       "      <td>0.203111</td>\n",
       "      <td>1.883209</td>\n",
       "    </tr>\n",
       "  </tbody>\n",
       "</table>\n",
       "</div>"
      ],
      "text/plain": [
       "                   A         B         C         D\n",
       "2020-05-23  1.360131  0.033279  0.203111  1.883209"
      ]
     },
     "execution_count": 87,
     "metadata": {},
     "output_type": "execute_result"
    }
   ],
   "source": [
    "#obtaining values > any value in any column from the dataframe\n",
    "df[df['A']>1]"
   ]
  },
  {
   "cell_type": "code",
   "execution_count": 88,
   "metadata": {},
   "outputs": [
    {
     "data": {
      "text/html": [
       "<div>\n",
       "<style scoped>\n",
       "    .dataframe tbody tr th:only-of-type {\n",
       "        vertical-align: middle;\n",
       "    }\n",
       "\n",
       "    .dataframe tbody tr th {\n",
       "        vertical-align: top;\n",
       "    }\n",
       "\n",
       "    .dataframe thead th {\n",
       "        text-align: right;\n",
       "    }\n",
       "</style>\n",
       "<table border=\"1\" class=\"dataframe\">\n",
       "  <thead>\n",
       "    <tr style=\"text-align: right;\">\n",
       "      <th></th>\n",
       "      <th>A</th>\n",
       "      <th>B</th>\n",
       "      <th>C</th>\n",
       "      <th>D</th>\n",
       "    </tr>\n",
       "  </thead>\n",
       "  <tbody>\n",
       "  </tbody>\n",
       "</table>\n",
       "</div>"
      ],
      "text/plain": [
       "Empty DataFrame\n",
       "Columns: [A, B, C, D]\n",
       "Index: []"
      ]
     },
     "execution_count": 88,
     "metadata": {},
     "output_type": "execute_result"
    }
   ],
   "source": [
    "df[df['A']>2]"
   ]
  },
  {
   "cell_type": "code",
   "execution_count": 94,
   "metadata": {},
   "outputs": [],
   "source": [
    "# Handling missing values in the dataframe : \n",
    "#reindexing\n",
    "df2=df.reindex(index=d[0:4],columns=list(df.columns)+['E'])"
   ]
  },
  {
   "cell_type": "code",
   "execution_count": 95,
   "metadata": {},
   "outputs": [],
   "source": [
    "df2.loc[d[0]:d[1],'E']=1"
   ]
  },
  {
   "cell_type": "code",
   "execution_count": 96,
   "metadata": {},
   "outputs": [
    {
     "data": {
      "text/html": [
       "<div>\n",
       "<style scoped>\n",
       "    .dataframe tbody tr th:only-of-type {\n",
       "        vertical-align: middle;\n",
       "    }\n",
       "\n",
       "    .dataframe tbody tr th {\n",
       "        vertical-align: top;\n",
       "    }\n",
       "\n",
       "    .dataframe thead th {\n",
       "        text-align: right;\n",
       "    }\n",
       "</style>\n",
       "<table border=\"1\" class=\"dataframe\">\n",
       "  <thead>\n",
       "    <tr style=\"text-align: right;\">\n",
       "      <th></th>\n",
       "      <th>A</th>\n",
       "      <th>B</th>\n",
       "      <th>C</th>\n",
       "      <th>D</th>\n",
       "      <th>E</th>\n",
       "    </tr>\n",
       "  </thead>\n",
       "  <tbody>\n",
       "    <tr>\n",
       "      <td>2020-05-18</td>\n",
       "      <td>0.003494</td>\n",
       "      <td>2.154004</td>\n",
       "      <td>-0.070177</td>\n",
       "      <td>0.046422</td>\n",
       "      <td>1.0</td>\n",
       "    </tr>\n",
       "    <tr>\n",
       "      <td>2020-05-19</td>\n",
       "      <td>-0.338394</td>\n",
       "      <td>-1.349600</td>\n",
       "      <td>0.097642</td>\n",
       "      <td>0.377403</td>\n",
       "      <td>1.0</td>\n",
       "    </tr>\n",
       "    <tr>\n",
       "      <td>2020-05-20</td>\n",
       "      <td>0.112549</td>\n",
       "      <td>0.774914</td>\n",
       "      <td>0.939130</td>\n",
       "      <td>0.710922</td>\n",
       "      <td>NaN</td>\n",
       "    </tr>\n",
       "    <tr>\n",
       "      <td>2020-05-21</td>\n",
       "      <td>-0.559390</td>\n",
       "      <td>1.897434</td>\n",
       "      <td>-1.465623</td>\n",
       "      <td>-0.220176</td>\n",
       "      <td>NaN</td>\n",
       "    </tr>\n",
       "  </tbody>\n",
       "</table>\n",
       "</div>"
      ],
      "text/plain": [
       "                   A         B         C         D    E\n",
       "2020-05-18  0.003494  2.154004 -0.070177  0.046422  1.0\n",
       "2020-05-19 -0.338394 -1.349600  0.097642  0.377403  1.0\n",
       "2020-05-20  0.112549  0.774914  0.939130  0.710922  NaN\n",
       "2020-05-21 -0.559390  1.897434 -1.465623 -0.220176  NaN"
      ]
     },
     "execution_count": 96,
     "metadata": {},
     "output_type": "execute_result"
    }
   ],
   "source": [
    "df2"
   ]
  },
  {
   "cell_type": "code",
   "execution_count": 97,
   "metadata": {},
   "outputs": [
    {
     "data": {
      "text/plain": [
       "A    4\n",
       "B    4\n",
       "C    4\n",
       "D    4\n",
       "E    4\n",
       "dtype: int64"
      ]
     },
     "execution_count": 97,
     "metadata": {},
     "output_type": "execute_result"
    }
   ],
   "source": [
    "df2.isnull().count()"
   ]
  },
  {
   "cell_type": "code",
   "execution_count": 98,
   "metadata": {},
   "outputs": [
    {
     "data": {
      "text/html": [
       "<div>\n",
       "<style scoped>\n",
       "    .dataframe tbody tr th:only-of-type {\n",
       "        vertical-align: middle;\n",
       "    }\n",
       "\n",
       "    .dataframe tbody tr th {\n",
       "        vertical-align: top;\n",
       "    }\n",
       "\n",
       "    .dataframe thead th {\n",
       "        text-align: right;\n",
       "    }\n",
       "</style>\n",
       "<table border=\"1\" class=\"dataframe\">\n",
       "  <thead>\n",
       "    <tr style=\"text-align: right;\">\n",
       "      <th></th>\n",
       "      <th>A</th>\n",
       "      <th>B</th>\n",
       "      <th>C</th>\n",
       "      <th>D</th>\n",
       "      <th>E</th>\n",
       "    </tr>\n",
       "  </thead>\n",
       "  <tbody>\n",
       "    <tr>\n",
       "      <td>2020-05-18</td>\n",
       "      <td>0.003494</td>\n",
       "      <td>2.154004</td>\n",
       "      <td>-0.070177</td>\n",
       "      <td>0.046422</td>\n",
       "      <td>1.0</td>\n",
       "    </tr>\n",
       "    <tr>\n",
       "      <td>2020-05-19</td>\n",
       "      <td>-0.338394</td>\n",
       "      <td>-1.349600</td>\n",
       "      <td>0.097642</td>\n",
       "      <td>0.377403</td>\n",
       "      <td>1.0</td>\n",
       "    </tr>\n",
       "  </tbody>\n",
       "</table>\n",
       "</div>"
      ],
      "text/plain": [
       "                   A         B         C         D    E\n",
       "2020-05-18  0.003494  2.154004 -0.070177  0.046422  1.0\n",
       "2020-05-19 -0.338394 -1.349600  0.097642  0.377403  1.0"
      ]
     },
     "execution_count": 98,
     "metadata": {},
     "output_type": "execute_result"
    }
   ],
   "source": [
    "#dropping the NaN values from the dataframe\n",
    "df2.dropna()"
   ]
  },
  {
   "cell_type": "code",
   "execution_count": 100,
   "metadata": {},
   "outputs": [
    {
     "data": {
      "text/html": [
       "<div>\n",
       "<style scoped>\n",
       "    .dataframe tbody tr th:only-of-type {\n",
       "        vertical-align: middle;\n",
       "    }\n",
       "\n",
       "    .dataframe tbody tr th {\n",
       "        vertical-align: top;\n",
       "    }\n",
       "\n",
       "    .dataframe thead th {\n",
       "        text-align: right;\n",
       "    }\n",
       "</style>\n",
       "<table border=\"1\" class=\"dataframe\">\n",
       "  <thead>\n",
       "    <tr style=\"text-align: right;\">\n",
       "      <th></th>\n",
       "      <th>A</th>\n",
       "      <th>B</th>\n",
       "      <th>C</th>\n",
       "      <th>D</th>\n",
       "      <th>E</th>\n",
       "    </tr>\n",
       "  </thead>\n",
       "  <tbody>\n",
       "    <tr>\n",
       "      <td>2020-05-18</td>\n",
       "      <td>0.003494</td>\n",
       "      <td>2.154004</td>\n",
       "      <td>-0.070177</td>\n",
       "      <td>0.046422</td>\n",
       "      <td>1.0</td>\n",
       "    </tr>\n",
       "    <tr>\n",
       "      <td>2020-05-19</td>\n",
       "      <td>-0.338394</td>\n",
       "      <td>-1.349600</td>\n",
       "      <td>0.097642</td>\n",
       "      <td>0.377403</td>\n",
       "      <td>1.0</td>\n",
       "    </tr>\n",
       "    <tr>\n",
       "      <td>2020-05-20</td>\n",
       "      <td>0.112549</td>\n",
       "      <td>0.774914</td>\n",
       "      <td>0.939130</td>\n",
       "      <td>0.710922</td>\n",
       "      <td>2.0</td>\n",
       "    </tr>\n",
       "    <tr>\n",
       "      <td>2020-05-21</td>\n",
       "      <td>-0.559390</td>\n",
       "      <td>1.897434</td>\n",
       "      <td>-1.465623</td>\n",
       "      <td>-0.220176</td>\n",
       "      <td>2.0</td>\n",
       "    </tr>\n",
       "  </tbody>\n",
       "</table>\n",
       "</div>"
      ],
      "text/plain": [
       "                   A         B         C         D    E\n",
       "2020-05-18  0.003494  2.154004 -0.070177  0.046422  1.0\n",
       "2020-05-19 -0.338394 -1.349600  0.097642  0.377403  1.0\n",
       "2020-05-20  0.112549  0.774914  0.939130  0.710922  2.0\n",
       "2020-05-21 -0.559390  1.897434 -1.465623 -0.220176  2.0"
      ]
     },
     "execution_count": 100,
     "metadata": {},
     "output_type": "execute_result"
    }
   ],
   "source": [
    "df2.fillna(value=2)"
   ]
  },
  {
   "cell_type": "code",
   "execution_count": 104,
   "metadata": {},
   "outputs": [
    {
     "data": {
      "text/html": [
       "<div>\n",
       "<style scoped>\n",
       "    .dataframe tbody tr th:only-of-type {\n",
       "        vertical-align: middle;\n",
       "    }\n",
       "\n",
       "    .dataframe tbody tr th {\n",
       "        vertical-align: top;\n",
       "    }\n",
       "\n",
       "    .dataframe thead th {\n",
       "        text-align: right;\n",
       "    }\n",
       "</style>\n",
       "<table border=\"1\" class=\"dataframe\">\n",
       "  <thead>\n",
       "    <tr style=\"text-align: right;\">\n",
       "      <th></th>\n",
       "      <th>A</th>\n",
       "      <th>B</th>\n",
       "      <th>C</th>\n",
       "      <th>D</th>\n",
       "      <th>E</th>\n",
       "    </tr>\n",
       "  </thead>\n",
       "  <tbody>\n",
       "    <tr>\n",
       "      <td>2020-05-18</td>\n",
       "      <td>False</td>\n",
       "      <td>False</td>\n",
       "      <td>False</td>\n",
       "      <td>False</td>\n",
       "      <td>False</td>\n",
       "    </tr>\n",
       "    <tr>\n",
       "      <td>2020-05-19</td>\n",
       "      <td>False</td>\n",
       "      <td>False</td>\n",
       "      <td>False</td>\n",
       "      <td>False</td>\n",
       "      <td>False</td>\n",
       "    </tr>\n",
       "    <tr>\n",
       "      <td>2020-05-20</td>\n",
       "      <td>False</td>\n",
       "      <td>False</td>\n",
       "      <td>False</td>\n",
       "      <td>False</td>\n",
       "      <td>True</td>\n",
       "    </tr>\n",
       "    <tr>\n",
       "      <td>2020-05-21</td>\n",
       "      <td>False</td>\n",
       "      <td>False</td>\n",
       "      <td>False</td>\n",
       "      <td>False</td>\n",
       "      <td>True</td>\n",
       "    </tr>\n",
       "  </tbody>\n",
       "</table>\n",
       "</div>"
      ],
      "text/plain": [
       "                A      B      C      D      E\n",
       "2020-05-18  False  False  False  False  False\n",
       "2020-05-19  False  False  False  False  False\n",
       "2020-05-20  False  False  False  False   True\n",
       "2020-05-21  False  False  False  False   True"
      ]
     },
     "execution_count": 104,
     "metadata": {},
     "output_type": "execute_result"
    }
   ],
   "source": [
    "#Boolean mask to check which values are null\n",
    "pd.isna(df2)"
   ]
  },
  {
   "cell_type": "markdown",
   "metadata": {},
   "source": [
    "PANDAS OPERATIONS : Discriptive Statistic Operations ,Applying Functions to data ,String Processing Operations ,Histogramming"
   ]
  },
  {
   "cell_type": "code",
   "execution_count": 105,
   "metadata": {},
   "outputs": [
    {
     "data": {
      "text/plain": [
       "A   -0.105350\n",
       "B    0.148710\n",
       "C    0.299809\n",
       "D   -0.050946\n",
       "dtype: float64"
      ]
     },
     "execution_count": 105,
     "metadata": {},
     "output_type": "execute_result"
    }
   ],
   "source": [
    "#Histogramming\n",
    "df.mean()"
   ]
  },
  {
   "cell_type": "code",
   "execution_count": 107,
   "metadata": {},
   "outputs": [
    {
     "data": {
      "text/plain": [
       "2020-05-18    0.533436\n",
       "2020-05-19   -0.303237\n",
       "2020-05-20    0.634379\n",
       "2020-05-21   -0.086939\n",
       "2020-05-22    0.572861\n",
       "2020-05-23    0.869933\n",
       "2020-05-24   -0.110245\n",
       "2020-05-25   -0.616311\n",
       "2020-05-26   -0.415049\n",
       "2020-05-27   -0.348270\n",
       "Freq: D, dtype: float64"
      ]
     },
     "execution_count": 107,
     "metadata": {},
     "output_type": "execute_result"
    }
   ],
   "source": [
    "df.mean(1)"
   ]
  },
  {
   "cell_type": "code",
   "execution_count": 108,
   "metadata": {},
   "outputs": [],
   "source": [
    "s=pd.Series([1,2,3,np.nan,4,5,6,7,8,9],index=d).shift(2)"
   ]
  },
  {
   "cell_type": "code",
   "execution_count": 109,
   "metadata": {},
   "outputs": [
    {
     "data": {
      "text/plain": [
       "2020-05-18    NaN\n",
       "2020-05-19    NaN\n",
       "2020-05-20    1.0\n",
       "2020-05-21    2.0\n",
       "2020-05-22    3.0\n",
       "2020-05-23    NaN\n",
       "2020-05-24    4.0\n",
       "2020-05-25    5.0\n",
       "2020-05-26    6.0\n",
       "2020-05-27    7.0\n",
       "Freq: D, dtype: float64"
      ]
     },
     "execution_count": 109,
     "metadata": {},
     "output_type": "execute_result"
    }
   ],
   "source": [
    "s"
   ]
  },
  {
   "cell_type": "code",
   "execution_count": 110,
   "metadata": {},
   "outputs": [
    {
     "data": {
      "text/html": [
       "<div>\n",
       "<style scoped>\n",
       "    .dataframe tbody tr th:only-of-type {\n",
       "        vertical-align: middle;\n",
       "    }\n",
       "\n",
       "    .dataframe tbody tr th {\n",
       "        vertical-align: top;\n",
       "    }\n",
       "\n",
       "    .dataframe thead th {\n",
       "        text-align: right;\n",
       "    }\n",
       "</style>\n",
       "<table border=\"1\" class=\"dataframe\">\n",
       "  <thead>\n",
       "    <tr style=\"text-align: right;\">\n",
       "      <th></th>\n",
       "      <th>A</th>\n",
       "      <th>B</th>\n",
       "      <th>C</th>\n",
       "      <th>D</th>\n",
       "    </tr>\n",
       "  </thead>\n",
       "  <tbody>\n",
       "    <tr>\n",
       "      <td>2020-05-18</td>\n",
       "      <td>NaN</td>\n",
       "      <td>NaN</td>\n",
       "      <td>NaN</td>\n",
       "      <td>NaN</td>\n",
       "    </tr>\n",
       "    <tr>\n",
       "      <td>2020-05-19</td>\n",
       "      <td>NaN</td>\n",
       "      <td>NaN</td>\n",
       "      <td>NaN</td>\n",
       "      <td>NaN</td>\n",
       "    </tr>\n",
       "    <tr>\n",
       "      <td>2020-05-20</td>\n",
       "      <td>-0.887451</td>\n",
       "      <td>-0.225086</td>\n",
       "      <td>-0.060870</td>\n",
       "      <td>-0.289078</td>\n",
       "    </tr>\n",
       "    <tr>\n",
       "      <td>2020-05-21</td>\n",
       "      <td>-2.559390</td>\n",
       "      <td>-0.102566</td>\n",
       "      <td>-3.465623</td>\n",
       "      <td>-2.220176</td>\n",
       "    </tr>\n",
       "    <tr>\n",
       "      <td>2020-05-22</td>\n",
       "      <td>-2.152795</td>\n",
       "      <td>-2.196204</td>\n",
       "      <td>-2.512973</td>\n",
       "      <td>-2.846581</td>\n",
       "    </tr>\n",
       "    <tr>\n",
       "      <td>2020-05-23</td>\n",
       "      <td>NaN</td>\n",
       "      <td>NaN</td>\n",
       "      <td>NaN</td>\n",
       "      <td>NaN</td>\n",
       "    </tr>\n",
       "    <tr>\n",
       "      <td>2020-05-24</td>\n",
       "      <td>-4.356005</td>\n",
       "      <td>-3.258072</td>\n",
       "      <td>-4.220938</td>\n",
       "      <td>-4.605966</td>\n",
       "    </tr>\n",
       "    <tr>\n",
       "      <td>2020-05-25</td>\n",
       "      <td>-6.102830</td>\n",
       "      <td>-5.772870</td>\n",
       "      <td>-3.950898</td>\n",
       "      <td>-6.638645</td>\n",
       "    </tr>\n",
       "    <tr>\n",
       "      <td>2020-05-26</td>\n",
       "      <td>-7.490392</td>\n",
       "      <td>-7.466000</td>\n",
       "      <td>-5.164488</td>\n",
       "      <td>-5.539316</td>\n",
       "    </tr>\n",
       "    <tr>\n",
       "      <td>2020-05-27</td>\n",
       "      <td>-6.529873</td>\n",
       "      <td>-8.329781</td>\n",
       "      <td>-5.856694</td>\n",
       "      <td>-8.676731</td>\n",
       "    </tr>\n",
       "  </tbody>\n",
       "</table>\n",
       "</div>"
      ],
      "text/plain": [
       "                   A         B         C         D\n",
       "2020-05-18       NaN       NaN       NaN       NaN\n",
       "2020-05-19       NaN       NaN       NaN       NaN\n",
       "2020-05-20 -0.887451 -0.225086 -0.060870 -0.289078\n",
       "2020-05-21 -2.559390 -0.102566 -3.465623 -2.220176\n",
       "2020-05-22 -2.152795 -2.196204 -2.512973 -2.846581\n",
       "2020-05-23       NaN       NaN       NaN       NaN\n",
       "2020-05-24 -4.356005 -3.258072 -4.220938 -4.605966\n",
       "2020-05-25 -6.102830 -5.772870 -3.950898 -6.638645\n",
       "2020-05-26 -7.490392 -7.466000 -5.164488 -5.539316\n",
       "2020-05-27 -6.529873 -8.329781 -5.856694 -8.676731"
      ]
     },
     "execution_count": 110,
     "metadata": {},
     "output_type": "execute_result"
    }
   ],
   "source": [
    "df.sub(s,axis='index')"
   ]
  },
  {
   "cell_type": "code",
   "execution_count": 111,
   "metadata": {},
   "outputs": [
    {
     "data": {
      "text/html": [
       "<div>\n",
       "<style scoped>\n",
       "    .dataframe tbody tr th:only-of-type {\n",
       "        vertical-align: middle;\n",
       "    }\n",
       "\n",
       "    .dataframe tbody tr th {\n",
       "        vertical-align: top;\n",
       "    }\n",
       "\n",
       "    .dataframe thead th {\n",
       "        text-align: right;\n",
       "    }\n",
       "</style>\n",
       "<table border=\"1\" class=\"dataframe\">\n",
       "  <thead>\n",
       "    <tr style=\"text-align: right;\">\n",
       "      <th></th>\n",
       "      <th>A</th>\n",
       "      <th>B</th>\n",
       "      <th>C</th>\n",
       "      <th>D</th>\n",
       "    </tr>\n",
       "  </thead>\n",
       "  <tbody>\n",
       "    <tr>\n",
       "      <td>2020-05-18</td>\n",
       "      <td>0.003494</td>\n",
       "      <td>2.154004</td>\n",
       "      <td>-0.070177</td>\n",
       "      <td>0.046422</td>\n",
       "    </tr>\n",
       "    <tr>\n",
       "      <td>2020-05-19</td>\n",
       "      <td>-0.334900</td>\n",
       "      <td>0.804404</td>\n",
       "      <td>0.027465</td>\n",
       "      <td>0.423825</td>\n",
       "    </tr>\n",
       "    <tr>\n",
       "      <td>2020-05-20</td>\n",
       "      <td>-0.222351</td>\n",
       "      <td>1.579318</td>\n",
       "      <td>0.966595</td>\n",
       "      <td>1.134747</td>\n",
       "    </tr>\n",
       "    <tr>\n",
       "      <td>2020-05-21</td>\n",
       "      <td>-0.781741</td>\n",
       "      <td>3.476752</td>\n",
       "      <td>-0.499027</td>\n",
       "      <td>0.914570</td>\n",
       "    </tr>\n",
       "    <tr>\n",
       "      <td>2020-05-22</td>\n",
       "      <td>0.065464</td>\n",
       "      <td>4.280547</td>\n",
       "      <td>-0.012001</td>\n",
       "      <td>1.067989</td>\n",
       "    </tr>\n",
       "    <tr>\n",
       "      <td>2020-05-23</td>\n",
       "      <td>1.425595</td>\n",
       "      <td>4.313827</td>\n",
       "      <td>0.191111</td>\n",
       "      <td>2.951198</td>\n",
       "    </tr>\n",
       "    <tr>\n",
       "      <td>2020-05-24</td>\n",
       "      <td>1.069590</td>\n",
       "      <td>5.055754</td>\n",
       "      <td>-0.029827</td>\n",
       "      <td>2.345232</td>\n",
       "    </tr>\n",
       "    <tr>\n",
       "      <td>2020-05-25</td>\n",
       "      <td>-0.033240</td>\n",
       "      <td>4.282884</td>\n",
       "      <td>1.019275</td>\n",
       "      <td>0.706587</td>\n",
       "    </tr>\n",
       "    <tr>\n",
       "      <td>2020-05-26</td>\n",
       "      <td>-1.523632</td>\n",
       "      <td>2.816884</td>\n",
       "      <td>1.854787</td>\n",
       "      <td>1.167271</td>\n",
       "    </tr>\n",
       "    <tr>\n",
       "      <td>2020-05-27</td>\n",
       "      <td>-1.053505</td>\n",
       "      <td>1.487104</td>\n",
       "      <td>2.998093</td>\n",
       "      <td>-0.509460</td>\n",
       "    </tr>\n",
       "  </tbody>\n",
       "</table>\n",
       "</div>"
      ],
      "text/plain": [
       "                   A         B         C         D\n",
       "2020-05-18  0.003494  2.154004 -0.070177  0.046422\n",
       "2020-05-19 -0.334900  0.804404  0.027465  0.423825\n",
       "2020-05-20 -0.222351  1.579318  0.966595  1.134747\n",
       "2020-05-21 -0.781741  3.476752 -0.499027  0.914570\n",
       "2020-05-22  0.065464  4.280547 -0.012001  1.067989\n",
       "2020-05-23  1.425595  4.313827  0.191111  2.951198\n",
       "2020-05-24  1.069590  5.055754 -0.029827  2.345232\n",
       "2020-05-25 -0.033240  4.282884  1.019275  0.706587\n",
       "2020-05-26 -1.523632  2.816884  1.854787  1.167271\n",
       "2020-05-27 -1.053505  1.487104  2.998093 -0.509460"
      ]
     },
     "execution_count": 111,
     "metadata": {},
     "output_type": "execute_result"
    }
   ],
   "source": [
    "#applying functions to data\n",
    "df.apply(np.cumsum)"
   ]
  },
  {
   "cell_type": "code",
   "execution_count": 114,
   "metadata": {},
   "outputs": [
    {
     "data": {
      "text/plain": [
       "A    2.850523\n",
       "B    3.620003\n",
       "C    2.608928\n",
       "D    3.559940\n",
       "dtype: float64"
      ]
     },
     "execution_count": 114,
     "metadata": {},
     "output_type": "execute_result"
    }
   ],
   "source": [
    "#lambda function in python: \n",
    "#syntax : x=lambda a : a+10----> \n",
    "#         print(x(5))     -----> Output : 15 \n",
    "\n",
    "\n",
    "df.apply(lambda x: x.max()-x.min())"
   ]
  },
  {
   "cell_type": "code",
   "execution_count": null,
   "metadata": {},
   "outputs": [],
   "source": []
  }
 ],
 "metadata": {
  "kernelspec": {
   "display_name": "Python 3",
   "language": "python",
   "name": "python3"
  },
  "language_info": {
   "codemirror_mode": {
    "name": "ipython",
    "version": 3
   },
   "file_extension": ".py",
   "mimetype": "text/x-python",
   "name": "python",
   "nbconvert_exporter": "python",
   "pygments_lexer": "ipython3",
   "version": "3.7.4"
  }
 },
 "nbformat": 4,
 "nbformat_minor": 2
}
