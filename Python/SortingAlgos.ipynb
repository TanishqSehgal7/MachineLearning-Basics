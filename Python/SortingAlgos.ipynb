{
 "cells": [
  {
   "cell_type": "code",
   "execution_count": 3,
   "metadata": {},
   "outputs": [
    {
     "name": "stdout",
     "output_type": "stream",
     "text": [
      "Sotred array is as follows:\n",
      "\n",
      "\n",
      "6\n",
      "13\n",
      "98\n",
      "56\n",
      "30\n",
      "90\n",
      "45\n",
      "67\n"
     ]
    }
   ],
   "source": [
    "#Bubble sort\n",
    "\n",
    "def BubbleSort(arr):\n",
    "    n=len(arr)\n",
    "    \n",
    "    for i in range(1,n-1):\n",
    "        for j in range(0,n-i-1):\n",
    "            arr[j],arr[j+1]=arr[j+1],arr[j]   #swapped\n",
    "       \n",
    "    \n",
    "arr=[45,90,30,56,98,13,6,67]\n",
    "\n",
    "BubbleSort(arr)\n",
    "\n",
    "print(\"Sotred array is as follows:\\n\\n\")\n",
    "for i in range(0,len(arr)):\n",
    "    print(arr[i])\n",
    "            "
   ]
  },
  {
   "cell_type": "code",
   "execution_count": 10,
   "metadata": {},
   "outputs": [
    {
     "name": "stdout",
     "output_type": "stream",
     "text": [
      "Sorted array is:\n",
      "4\n",
      "10\n",
      "13\n",
      "32\n",
      "46\n",
      "65\n",
      "89\n",
      "94\n"
     ]
    }
   ],
   "source": [
    "#Insertion Sort\n",
    "\n",
    "def InsertionSort(arr):\n",
    "    for i in range(0,len(arr)):\n",
    "        pivot=arr[i]\n",
    "        j=i-1\n",
    "        \n",
    "        while j>=0 and pivot<arr[j]:\n",
    "            arr[j+1]=arr[j]      #replaced  \n",
    "            j-=1             \n",
    "        arr[j+1]=pivot         #Inserted\n",
    "        \n",
    "\n",
    "arr=[10,46,89,94,65,32,13,4]\n",
    "\n",
    "InsertionSort(arr)\n",
    "\n",
    "print (\"Sorted array is:\") \n",
    "for i in range(len(arr)): \n",
    "    print (\"%d\" %arr[i]) \n",
    "        "
   ]
  },
  {
   "cell_type": "code",
   "execution_count": 16,
   "metadata": {},
   "outputs": [
    {
     "name": "stdout",
     "output_type": "stream",
     "text": [
      "Sorted array\n",
      "7\n",
      "12\n",
      "22\n",
      "25\n",
      "64\n"
     ]
    }
   ],
   "source": [
    "#SelectionSort\n",
    "\n",
    "import sys \n",
    "Arr = [64, 25, 12, 22, 7] \n",
    "\n",
    "for i in range(len(Arr)): \n",
    "    min_idx = i \n",
    "    for j in range(i+1, len(Arr)): \n",
    "        if Arr[min_idx] > Arr[j]: \n",
    "            min_idx = j \n",
    "              \n",
    "    # Swap the found minimum element with  \n",
    "    # the first element         \n",
    "    Arr[i], Arr[min_idx] = Arr[min_idx], Arr[i]   #swapping\n",
    "  \n",
    "# Driver code to test above \n",
    "print (\"Sorted array\") \n",
    "for i in range(len(Arr)): \n",
    "    print(\"%d\" %Arr[i])\n",
    "\n"
   ]
  },
  {
   "cell_type": "code",
   "execution_count": null,
   "metadata": {},
   "outputs": [],
   "source": []
  }
 ],
 "metadata": {
  "kernelspec": {
   "display_name": "Python 3",
   "language": "python",
   "name": "python3"
  },
  "language_info": {
   "codemirror_mode": {
    "name": "ipython",
    "version": 3
   },
   "file_extension": ".py",
   "mimetype": "text/x-python",
   "name": "python",
   "nbconvert_exporter": "python",
   "pygments_lexer": "ipython3",
   "version": "3.7.4"
  }
 },
 "nbformat": 4,
 "nbformat_minor": 2
}
