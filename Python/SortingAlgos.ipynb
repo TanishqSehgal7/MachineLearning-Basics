{
 "cells": [
  {
   "cell_type": "code",
   "execution_count": 91,
   "metadata": {},
   "outputs": [
    {
     "name": "stdout",
     "output_type": "stream",
     "text": [
      "Sotred array is as follows:\n",
      "\n",
      "\n",
      "6\n",
      "13\n",
      "30\n",
      "45\n",
      "56\n",
      "67\n",
      "90\n",
      "98\n"
     ]
    }
   ],
   "source": [
    "#Bubble sort\n",
    "def BubbleSort(arr):\n",
    "    n=len(arr)\n",
    "    \n",
    "    for i in range(0,n-1):\n",
    "        for j in range(0,n-i-1):\n",
    "            if(arr[j])>arr[j+1]:\n",
    "            arr[j],arr[j+1]=arr[j+1],arr[j]   #swapped\n",
    "       \n",
    "    \n",
    "arr=[45,90,30,56,98,13,6,67]\n",
    "\n",
    "BubbleSort(arr)\n",
    "\n",
    "print(\"Sotred array is as follows:\\n\\n\")\n",
    "for i in range(0,len(arr)):\n",
    "    print(arr[i])"
   ]
  },
  {
   "cell_type": "code",
   "execution_count": 6,
   "metadata": {},
   "outputs": [
    {
     "name": "stdout",
     "output_type": "stream",
     "text": [
      "Sorted array is:\n",
      "4\n",
      "10\n",
      "13\n",
      "32\n",
      "46\n",
      "65\n",
      "89\n",
      "94\n"
     ]
    }
   ],
   "source": [
    "#Insertion Sort\n",
    "def InsertionSort(arr):\n",
    "    for i in range(0,len(arr)):\n",
    "        ref=arr[i]\n",
    "        j=i-1\n",
    "        \n",
    "        while j>=0 and ref<arr[j]:\n",
    "            arr[j+1]=arr[j]      #replaced  \n",
    "            j-=1             \n",
    "        arr[j+1]=ref         #Inserted\n",
    "        \n",
    "\n",
    "arr=[10,46,89,94,65,32,13,4]\n",
    "\n",
    "InsertionSort(arr)\n",
    "\n",
    "print (\"Sorted array is:\") \n",
    "for i in range(len(arr)): \n",
    "    print (\"%d\" %arr[i]) \n",
    "        "
   ]
  },
  {
   "cell_type": "code",
   "execution_count": 57,
   "metadata": {},
   "outputs": [
    {
     "name": "stdout",
     "output_type": "stream",
     "text": [
      "Sorted array\n",
      "7\n",
      "12\n",
      "22\n",
      "25\n",
      "64\n"
     ]
    }
   ],
   "source": [
    "#SelectionSort\n",
    "\n",
    " \n",
    "Arr = [64, 25, 12, 22, 7] \n",
    "\n",
    "for i in range(len(Arr)): \n",
    "    min_idx = i \n",
    "    for j in range(i+1, len(Arr)): \n",
    "        if Arr[min_idx] > Arr[j]: \n",
    "            min_idx = j \n",
    "                \n",
    "    Arr[i], Arr[min_idx] = Arr[min_idx], Arr[i]   #swapping\n",
    "  \n",
    "\n",
    "print(\"Sorted array\") \n",
    "for i in range(len(Arr)): \n",
    "    print(\"%d\" %Arr[i])\n",
    "\n"
   ]
  },
  {
   "cell_type": "code",
   "execution_count": 8,
   "metadata": {},
   "outputs": [
    {
     "name": "stdout",
     "output_type": "stream",
     "text": [
      "moving disk from A to B\n",
      "moving disk from A to C\n",
      "moving disk from B to C\n",
      "moving disk from A to B\n",
      "moving disk from C to A\n",
      "moving disk from C to B\n",
      "moving disk from A to B\n"
     ]
    }
   ],
   "source": [
    "#Tower of Hanoi\n",
    "def moveTower(ht,APole, BPole, CPole):\n",
    "    if ht >= 1:\n",
    "        moveTower(ht-1,APole,CPole,BPole)\n",
    "        moveDisk(APole,BPole)\n",
    "        moveTower(ht-1,CPole,BPole,APole)\n",
    "\n",
    "def moveDisk(firstpole,thirdpole):\n",
    "    print(\"moving disk from\",firstpole,\"to\",thirdpole)\n",
    "\n",
    "moveTower(3,\"A\",\"B\",\"C\")\n",
    "\n"
   ]
  },
  {
   "cell_type": "code",
   "execution_count": 31,
   "metadata": {},
   "outputs": [
    {
     "name": "stdout",
     "output_type": "stream",
     "text": [
      "Sorted array is:\n",
      "3\n",
      "9\n",
      "15\n",
      "19\n",
      "24\n",
      "24\n"
     ]
    }
   ],
   "source": [
    "#Quick Sort \n",
    "\n",
    "def Partition(arr,lo,hi):\n",
    "    i=(lo-1)\n",
    "    pivot=arr[hi]\n",
    "    \n",
    "    for j in range(lo,hi):\n",
    "        if arr[j]<pivot:\n",
    "            \n",
    "            i = i+1 \n",
    "            arr[i],arr[j] = arr[j],arr[i] \n",
    "    \n",
    "    arr[i+1],arr[hi] = arr[hi],arr[i+1] \n",
    "    return (i+1)\n",
    "\n",
    "def quickSort(arr,lo,hi): \n",
    "    if lo < hi: \n",
    "        pivot = Partition(arr,lo,hi) \n",
    "  \n",
    "        quickSort(arr, lo, pivot-1) \n",
    "        quickSort(arr, pivot+1, hi) \n",
    "        \n",
    "\n",
    "arr = [15, 9, 24, 3, 19, 24] \n",
    "n = len(arr) \n",
    "quickSort(arr,0,n-1) \n",
    "print (\"Sorted array is:\") \n",
    "for i in range(n): \n",
    "    print (\"%d\" %arr[i]),         "
   ]
  },
  {
   "cell_type": "code",
   "execution_count": 55,
   "metadata": {
    "scrolled": true
   },
   "outputs": [
    {
     "name": "stdout",
     "output_type": "stream",
     "text": [
      "1\n",
      "64\n",
      "125\n",
      "153\n",
      "216\n",
      "370\n",
      "371\n",
      "407\n"
     ]
    }
   ],
   "source": [
    "#Armstrong number - To find the Armstrong's numbers in a given range\n",
    "\n",
    "start=1\n",
    "end=500\n",
    "\n",
    "for number in range(start,end):\n",
    "    sum=0\n",
    "    temp=number\n",
    "    while temp>0:\n",
    "        digit=temp%10\n",
    "        sum=sum+digit**3\n",
    "        temp=temp//10\n",
    "        if sum==number:\n",
    "            print (number)        "
   ]
  },
  {
   "cell_type": "code",
   "execution_count": 96,
   "metadata": {},
   "outputs": [
    {
     "name": "stdout",
     "output_type": "stream",
     "text": [
      "Given array is\n",
      "31.250000\n",
      "17.990000\n",
      "13.630000\n",
      "5.000000\n",
      "42.000000\n",
      "21.000000\n",
      "\n",
      "\n",
      "Sorted array is\n",
      "5.000000\n",
      "13.630000\n",
      "17.990000\n",
      "21.000000\n",
      "31.250000\n",
      "42.000000\n"
     ]
    }
   ],
   "source": [
    "#Merge Sort\n",
    "def merge(arr, left, mid, right): \n",
    "    n1 = mid - left + 1\n",
    "    n2 = right- mid \n",
    "  \n",
    "    \n",
    "    Lef_arr = [0] * (n1) \n",
    "    Rig_arr = [0] * (n2) \n",
    "  \n",
    "    \n",
    "    for i in range(0 , n1): \n",
    "        Lef_arr[i] = arr[left + i] \n",
    "  \n",
    "    for j in range(0 , n2): \n",
    "        Rig_arr[j] = arr[mid + 1 + j] \n",
    "  \n",
    "    \n",
    "    i = 0     # Initial index of first subarray \n",
    "    j = 0     # Initial index of second subarray \n",
    "    k = left     # Initial index of merged subarray \n",
    "  \n",
    "    while i < n1 and j < n2 : \n",
    "        if Lef_arr[i] <= Rig_arr[j]: \n",
    "            arr[k] = Lef_arr[i] \n",
    "            i += 1\n",
    "        else: \n",
    "            arr[k] = Rig_arr[j] \n",
    "            j += 1\n",
    "        k += 1\n",
    "  \n",
    "     \n",
    "    \n",
    "    while i < n1: \n",
    "        arr[k] = Lef_arr[i] \n",
    "        i += 1\n",
    "        k += 1\n",
    "  \n",
    "    \n",
    "     \n",
    "    while j < n2: \n",
    "        arr[k] = Rig_arr[j] \n",
    "        j += 1\n",
    "        k += 1\n",
    "  \n",
    "\n",
    "\n",
    "\n",
    "def mergeSort(arr,left,right): \n",
    "    if left < right: \n",
    "  \n",
    "         \n",
    "        \n",
    "        mid = (left+(right-1))//2\n",
    "  \n",
    "        \n",
    "        mergeSort(arr, left, mid) \n",
    "        mergeSort(arr, mid+1, right) \n",
    "        merge(arr, left, mid, right) \n",
    "  \n",
    "  \n",
    "\n",
    "arr = [31.25, 17.99, 13.63, 5, 42, 21] \n",
    "n = len(arr) \n",
    "print (\"Given array is\") \n",
    "for i in range(n): \n",
    "    print (\"%f\" %arr[i]), \n",
    "  \n",
    "mergeSort(arr,0,n-1) \n",
    "print (\"\\n\\nSorted array is\") \n",
    "for i in range(n): \n",
    "    print (\"%f\" %arr[i]), \n",
    "  "
   ]
  },
  {
   "cell_type": "code",
   "execution_count": 86,
   "metadata": {},
   "outputs": [
    {
     "name": "stdout",
     "output_type": "stream",
     "text": [
      "[1, 12, 23, 43, 45, 64, 88]\n"
     ]
    }
   ],
   "source": [
    "# Radix sort \n",
    "# sort on the basis of significant places\n",
    "def countingSort(array, place):\n",
    "    size = len(array)\n",
    "    output = [0] * size\n",
    "    count = [0] * 10\n",
    "\n",
    "    # Calculate count of elements\n",
    "    for i in range(0, size):\n",
    "        index = array[i] // place\n",
    "        count[index % 10] += 1\n",
    "\n",
    "    # Calculate cummulative count\n",
    "    for i in range(1, 10):\n",
    "        count[i] += count[i - 1]\n",
    "\n",
    "    # Place the elements in sorted order\n",
    "    i = size - 1\n",
    "    while i >= 0:\n",
    "        index = array[i] // place\n",
    "        output[count[index % 10] - 1] = array[i]\n",
    "        count[index % 10] -= 1\n",
    "        i -= 1\n",
    "\n",
    "    for i in range(0, size):\n",
    "        array[i] = output[i]\n",
    "\n",
    "\n",
    "# Main function to implement radix sort\n",
    "def radixSort(array):\n",
    "    # Get maximum element\n",
    "    max_element = max(array)\n",
    "    place = 1\n",
    "    while max_element // place > 0:\n",
    "        countingSort(array, place)\n",
    "        place *= 10\n",
    "\n",
    "\n",
    "data = [12, 43, 64, 23, 1, 45, 88]\n",
    "radixSort(data)\n",
    "print(data)"
   ]
  },
  {
   "cell_type": "code",
   "execution_count": null,
   "metadata": {},
   "outputs": [],
   "source": []
  }
 ],
 "metadata": {
  "kernelspec": {
   "display_name": "Python 3",
   "language": "python",
   "name": "python3"
  },
  "language_info": {
   "codemirror_mode": {
    "name": "ipython",
    "version": 3
   },
   "file_extension": ".py",
   "mimetype": "text/x-python",
   "name": "python",
   "nbconvert_exporter": "python",
   "pygments_lexer": "ipython3",
   "version": "3.7.4"
  }
 },
 "nbformat": 4,
 "nbformat_minor": 2
}
