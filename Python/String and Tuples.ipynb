{
 "cells": [
  {
   "cell_type": "code",
   "execution_count": 2,
   "metadata": {},
   "outputs": [
    {
     "name": "stdout",
     "output_type": "stream",
     "text": [
      "7\n"
     ]
    }
   ],
   "source": [
    "# String Properties :Strings are declared like all variables in Python.A string’s length can be printed using the len() function. \n",
    "#Indexing starts from zero, and we can access elements of a string using indices. Strings are immutable; we cannot change them.\n",
    "#One thing to note that we can add strings to strings but cannot add strings to integers etc. And the character datatype doesn’t \n",
    "#exist in Python at all; even a single alphabet or number will be a string datatype.\n",
    "#One of the best things about strings in Python is that we need not write out our entire string in one line; we can write \n",
    "#it in different lines using pairs of triple quotes. These triple quotes can also contain line breaks and escape sequences.\n",
    "#Strings have many functionalities in python like conversion between cases, concatenation etc. Some of them are given below.\n",
    "\n",
    "#If you wish to convert your string to the upper case, the function upper() will return the string in upper case, and similarly \n",
    "#for lower case. Note that this returns a new string with the changed case; this does not alter the original string. \n",
    "#The function strip() will remove the white spaces at the beginning and end of our string. We can also check if a \n",
    "#certain character or substring is present within a string.\n",
    "#If you wish to take input from a user and store it in a variable, use input(). This will take input in the form of a string, \n",
    "#which can be converted to other datatypes (integer, for instance).\n",
    "\n",
    "a='Tanishq'\n",
    "print(len(a))"
   ]
  },
  {
   "cell_type": "code",
   "execution_count": 3,
   "metadata": {},
   "outputs": [
    {
     "data": {
      "text/plain": [
       "str"
      ]
     },
     "execution_count": 3,
     "metadata": {},
     "output_type": "execute_result"
    }
   ],
   "source": [
    "type(a)"
   ]
  },
  {
   "cell_type": "code",
   "execution_count": 4,
   "metadata": {},
   "outputs": [
    {
     "name": "stdout",
     "output_type": "stream",
     "text": [
      "T   a   n\n"
     ]
    }
   ],
   "source": [
    "print(a[0],\" \",a[1],\" \",a[2])"
   ]
  },
  {
   "cell_type": "code",
   "execution_count": 2,
   "metadata": {},
   "outputs": [
    {
     "name": "stdout",
     "output_type": "stream",
     "text": [
      "Tanishq Sehgal\n"
     ]
    }
   ],
   "source": [
    "# Note: String in python are immutable \n",
    "\n",
    "#operations on a string \n",
    "\n",
    "t='Tanishq'\n",
    "s='Sehgal'\n",
    "print(t,s)"
   ]
  },
  {
   "cell_type": "code",
   "execution_count": 3,
   "metadata": {},
   "outputs": [
    {
     "name": "stdout",
     "output_type": "stream",
     "text": [
      "TANISHQ SEHGAL\n"
     ]
    }
   ],
   "source": [
    "print(t.upper(),s.upper())"
   ]
  },
  {
   "cell_type": "code",
   "execution_count": 4,
   "metadata": {},
   "outputs": [
    {
     "name": "stdout",
     "output_type": "stream",
     "text": [
      "tanishq sehgal\n"
     ]
    }
   ],
   "source": [
    "print(t.lower(),s.lower())"
   ]
  },
  {
   "cell_type": "code",
   "execution_count": 9,
   "metadata": {},
   "outputs": [
    {
     "name": "stdout",
     "output_type": "stream",
     "text": [
      "Android Application Devlopment - Kotlin\n",
      "   Android Application Devlopment - Kotlin     \n"
     ]
    }
   ],
   "source": [
    "# obtaining a string without spaces\n",
    "\n",
    "c=\"   Android Application Devlopment - Kotlin     \"\n",
    "print(c.strip())   #without spaces\n",
    "print(c)        # with spaces \n"
   ]
  },
  {
   "cell_type": "code",
   "execution_count": 10,
   "metadata": {},
   "outputs": [
    {
     "data": {
      "text/plain": [
       "False"
      ]
     },
     "execution_count": 10,
     "metadata": {},
     "output_type": "execute_result"
    }
   ],
   "source": [
    "c.isalpha()"
   ]
  },
  {
   "cell_type": "code",
   "execution_count": 11,
   "metadata": {},
   "outputs": [
    {
     "data": {
      "text/plain": [
       "False"
      ]
     },
     "execution_count": 11,
     "metadata": {},
     "output_type": "execute_result"
    }
   ],
   "source": [
    "c.isdigit()"
   ]
  },
  {
   "cell_type": "code",
   "execution_count": 34,
   "metadata": {},
   "outputs": [
    {
     "name": "stdout",
     "output_type": "stream",
     "text": [
      "Enter the String : Machine Learning\n",
      "Machine Learning is the string you entered\n",
      "16\n",
      "<class 'str'>\n"
     ]
    }
   ],
   "source": [
    "# taking a string input from the user\n",
    "\n",
    "string=str(input(\"Enter the String : \"))\n",
    "print(string + ' is the string you entered')\n",
    "print(len(string))\n",
    "print(type(string))"
   ]
  },
  {
   "cell_type": "code",
   "execution_count": 44,
   "metadata": {},
   "outputs": [
    {
     "name": "stdout",
     "output_type": "stream",
     "text": [
      "McieLann\n"
     ]
    }
   ],
   "source": [
    "# string slicing =?  syntax :  s[start:end:Skips]\n",
    "\n",
    "d=\"Machine Learning\"\n",
    "print(d[0:17:2])\n",
    "print()"
   ]
  },
  {
   "cell_type": "code",
   "execution_count": 55,
   "metadata": {},
   "outputs": [
    {
     "name": "stdout",
     "output_type": "stream",
     "text": [
      "<class 'tuple'>\n",
      "(1, 3, 5, 'Sehgal')\n",
      "(1, 2, 3, 4, 5, 'Tanishq', 'Sehgal', 3.14)\n"
     ]
    }
   ],
   "source": [
    "# Tuples - multiple elements of different type together\n",
    "# Creating a tuple\n",
    "t=(1,2,3,4,5,'Tanishq','Sehgal',3.14)\n",
    "print(type(t))\n",
    "print(t[0:9:2])\n",
    "print(t)"
   ]
  },
  {
   "cell_type": "code",
   "execution_count": 63,
   "metadata": {},
   "outputs": [
    {
     "name": "stdout",
     "output_type": "stream",
     "text": [
      "(1, 2, 3, 4, 5, 'Tanishq', 'Sehgal', 3.14, 6, 7, 8, 'Android', 'ML-DL')\n",
      "3.14\n",
      "()\n"
     ]
    }
   ],
   "source": [
    "#concatenation of tuples\n",
    "s=(6,7,8,\"Android\",\"ML-DL\")\n",
    "print(t+s)\n",
    "print(t[-1])"
   ]
  },
  {
   "cell_type": "code",
   "execution_count": null,
   "metadata": {},
   "outputs": [],
   "source": []
  }
 ],
 "metadata": {
  "kernelspec": {
   "display_name": "Python 3",
   "language": "python",
   "name": "python3"
  },
  "language_info": {
   "codemirror_mode": {
    "name": "ipython",
    "version": 3
   },
   "file_extension": ".py",
   "mimetype": "text/x-python",
   "name": "python",
   "nbconvert_exporter": "python",
   "pygments_lexer": "ipython3",
   "version": "3.7.4"
  }
 },
 "nbformat": 4,
 "nbformat_minor": 2
}
