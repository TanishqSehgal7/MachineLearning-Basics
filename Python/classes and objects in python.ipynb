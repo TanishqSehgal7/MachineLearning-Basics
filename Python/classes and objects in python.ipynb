{
 "cells": [
  {
   "cell_type": "code",
   "execution_count": 30,
   "metadata": {},
   "outputs": [],
   "source": [
    "#defining a class in python\n",
    "#include the self keyword as an arguement in all functions definied within a class\n",
    "class Robot:\n",
    "    def __init__(self,name,color,age):\n",
    "        self.name=name\n",
    "        self.color=color\n",
    "        self.age=age\n",
    "    \n",
    "    def introduce(self):   \n",
    "        print(\"My name is \" + self.name)\n",
    "        print(\"My age is \")  \n",
    "        print(self.age)\n",
    "        print(\"My favourite color is \" + self.color)\n",
    "        "
   ]
  },
  {
   "cell_type": "code",
   "execution_count": 31,
   "metadata": {},
   "outputs": [],
   "source": [
    "#constructor and objects of the class Robot\n",
    "r1=Robot(\"Tanishq\",\"Black\",20)\n",
    "r2=Robot(\"Tushar\",\"Blue\",19)"
   ]
  },
  {
   "cell_type": "code",
   "execution_count": 33,
   "metadata": {},
   "outputs": [],
   "source": [
    "class Person:\n",
    "    def __init__(self,n,p,i):\n",
    "        self.name=n\n",
    "        self.personality=p\n",
    "        self.is_sitting=i\n",
    "        \n",
    "    def sit_down(self):\n",
    "        self.is_sitting=True\n",
    "    \n",
    "    def stand_up(self):\n",
    "        self.is_sitting=False"
   ]
  },
  {
   "cell_type": "code",
   "execution_count": 34,
   "metadata": {},
   "outputs": [],
   "source": [
    "p1=Person(\"Tanishq\",\"kind and gentle\",False)\n",
    "p2=Person(\"Tushar\",\"talkitive\",True)"
   ]
  },
  {
   "cell_type": "code",
   "execution_count": 35,
   "metadata": {},
   "outputs": [],
   "source": [
    "p1.robot_owned=r2\n",
    "p2.robot_owned=r1"
   ]
  },
  {
   "cell_type": "code",
   "execution_count": 36,
   "metadata": {},
   "outputs": [
    {
     "name": "stdout",
     "output_type": "stream",
     "text": [
      "My name is Tushar\n",
      "My age is \n",
      "19\n",
      "My favourite color is Blue\n"
     ]
    }
   ],
   "source": [
    "p1.robot_owned.introduce()"
   ]
  },
  {
   "cell_type": "code",
   "execution_count": null,
   "metadata": {},
   "outputs": [],
   "source": []
  }
 ],
 "metadata": {
  "kernelspec": {
   "display_name": "Python 3",
   "language": "python",
   "name": "python3"
  },
  "language_info": {
   "codemirror_mode": {
    "name": "ipython",
    "version": 3
   },
   "file_extension": ".py",
   "mimetype": "text/x-python",
   "name": "python",
   "nbconvert_exporter": "python",
   "pygments_lexer": "ipython3",
   "version": "3.7.4"
  }
 },
 "nbformat": 4,
 "nbformat_minor": 2
}
