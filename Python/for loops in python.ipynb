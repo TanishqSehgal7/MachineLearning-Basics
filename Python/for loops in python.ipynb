{
 "cells": [
  {
   "cell_type": "code",
   "execution_count": 1,
   "metadata": {},
   "outputs": [],
   "source": [
    "#for loops in python\n",
    "\n",
    "a=[\"banana\",\"apple\",\"microsoft\"]"
   ]
  },
  {
   "cell_type": "code",
   "execution_count": 4,
   "metadata": {},
   "outputs": [
    {
     "name": "stdout",
     "output_type": "stream",
     "text": [
      "banana\n",
      "banana\n",
      "apple\n",
      "apple\n",
      "microsoft\n",
      "microsoft\n",
      "we are out of the loop\n"
     ]
    }
   ],
   "source": [
    "for element in a:\n",
    "    print(element)\n",
    "    print(element)\n",
    "print(\"we are out of the loop\")    "
   ]
  },
  {
   "cell_type": "code",
   "execution_count": 12,
   "metadata": {},
   "outputs": [
    {
     "name": "stdout",
     "output_type": "stream",
     "text": [
      "out of the loop\n",
      "90\n"
     ]
    }
   ],
   "source": [
    "b=[20,30,40]\n",
    "sum=0\n",
    "for i in b:\n",
    "    sum=sum+i\n",
    "print(\"out of the loop\")  \n",
    "print(sum)"
   ]
  },
  {
   "cell_type": "code",
   "execution_count": 15,
   "metadata": {},
   "outputs": [
    {
     "name": "stdout",
     "output_type": "stream",
     "text": [
      "[0, 1, 2, 3, 4]\n"
     ]
    }
   ],
   "source": [
    "# range(si,ei) is a function used to specify the range of a number-> example \n",
    "# list()-> creates a list with a specified range\n",
    "c=list(range(0,5))\n",
    "print(c)"
   ]
  },
  {
   "cell_type": "code",
   "execution_count": 22,
   "metadata": {},
   "outputs": [
    {
     "name": "stdout",
     "output_type": "stream",
     "text": [
      "0\n",
      "/////////////////\n",
      "\n",
      "0\n",
      "1\n",
      "/////////////////\n",
      "\n",
      "1\n",
      "2\n",
      "/////////////////\n",
      "\n",
      "3\n",
      "3\n",
      "/////////////////\n",
      "\n",
      "6\n",
      "4\n",
      "/////////////////\n",
      "\n",
      "10\n",
      "result is\n",
      "10\n"
     ]
    }
   ],
   "source": [
    "total=0\n",
    "for i in range(0,5):\n",
    "    print(i)\n",
    "    total+=i\n",
    "    print(\"/////////////////\\n\")\n",
    "    print(total)\n",
    "print(\"result is\")    \n",
    "print(total)    "
   ]
  },
  {
   "cell_type": "code",
   "execution_count": 24,
   "metadata": {},
   "outputs": [
    {
     "name": "stdout",
     "output_type": "stream",
     "text": [
      "[1, 2, 3, 4, 5, 6, 7]\n"
     ]
    }
   ],
   "source": [
    "print(list(range(1,8)))"
   ]
  },
  {
   "cell_type": "code",
   "execution_count": 25,
   "metadata": {},
   "outputs": [
    {
     "name": "stdout",
     "output_type": "stream",
     "text": [
      "i is not the multiple of 3\n",
      "i is not the multiple of 3\n",
      "i is the multiple of 3\n",
      "i is not the multiple of 3\n",
      "i is not the multiple of 3\n",
      "i is the multiple of 3\n",
      "i is not the multiple of 3\n",
      "9\n"
     ]
    }
   ],
   "source": [
    "total1=0\n",
    "for i in range(1,8):\n",
    "    if i%3==0:\n",
    "        total1+=i\n",
    "        print(\"i is the multiple of 3\")\n",
    "    else: \n",
    "        print(\"i is not the multiple of 3\")\n",
    "print(total1)"
   ]
  },
  {
   "cell_type": "code",
   "execution_count": 32,
   "metadata": {},
   "outputs": [
    {
     "name": "stdout",
     "output_type": "stream",
     "text": [
      "[0, 1, 2, 3, 4, 5, 6, 7, 8, 9, 10, 11, 12, 13, 14, 15, 16, 17, 18, 19, 20, 21, 22, 23, 24, 25, 26, 27, 28, 29, 30, 31, 32, 33, 34, 35, 36, 37, 38, 39, 40, 41, 42, 43, 44, 45, 46, 47, 48, 49, 50, 51, 52, 53, 54, 55, 56, 57, 58, 59, 60, 61, 62, 63, 64, 65, 66, 67, 68, 69, 70, 71, 72, 73, 74, 75, 76, 77, 78, 79, 80, 81, 82, 83, 84, 85, 86, 87, 88, 89, 90, 91, 92, 93, 94, 95, 96, 97, 98, 99]\n"
     ]
    }
   ],
   "source": [
    "print(list(range(0,100)))"
   ]
  },
  {
   "cell_type": "code",
   "execution_count": 34,
   "metadata": {},
   "outputs": [
    {
     "name": "stdout",
     "output_type": "stream",
     "text": [
      "0\n",
      "is a multiple of 3\n",
      "1\n",
      "is neither a multiple of 3 nor a multiple of 5\n",
      "2\n",
      "is neither a multiple of 3 nor a multiple of 5\n",
      "3\n",
      "is a multiple of 3\n",
      "4\n",
      "is neither a multiple of 3 nor a multiple of 5\n",
      "5\n",
      "is a multiple of 5\n",
      "6\n",
      "is a multiple of 3\n",
      "7\n",
      "is neither a multiple of 3 nor a multiple of 5\n",
      "8\n",
      "is neither a multiple of 3 nor a multiple of 5\n",
      "9\n",
      "is a multiple of 3\n",
      "10\n",
      "is a multiple of 5\n",
      "11\n",
      "is neither a multiple of 3 nor a multiple of 5\n",
      "12\n",
      "is a multiple of 3\n",
      "13\n",
      "is neither a multiple of 3 nor a multiple of 5\n",
      "14\n",
      "is neither a multiple of 3 nor a multiple of 5\n",
      "15\n",
      "is a multiple of 3\n",
      "16\n",
      "is neither a multiple of 3 nor a multiple of 5\n",
      "17\n",
      "is neither a multiple of 3 nor a multiple of 5\n",
      "18\n",
      "is a multiple of 3\n",
      "19\n",
      "is neither a multiple of 3 nor a multiple of 5\n",
      "20\n",
      "is a multiple of 5\n",
      "21\n",
      "is a multiple of 3\n",
      "22\n",
      "is neither a multiple of 3 nor a multiple of 5\n",
      "23\n",
      "is neither a multiple of 3 nor a multiple of 5\n",
      "24\n",
      "is a multiple of 3\n",
      "25\n",
      "is a multiple of 5\n",
      "26\n",
      "is neither a multiple of 3 nor a multiple of 5\n",
      "27\n",
      "is a multiple of 3\n",
      "28\n",
      "is neither a multiple of 3 nor a multiple of 5\n",
      "29\n",
      "is neither a multiple of 3 nor a multiple of 5\n",
      "30\n",
      "is a multiple of 3\n",
      "31\n",
      "is neither a multiple of 3 nor a multiple of 5\n",
      "32\n",
      "is neither a multiple of 3 nor a multiple of 5\n",
      "33\n",
      "is a multiple of 3\n",
      "34\n",
      "is neither a multiple of 3 nor a multiple of 5\n",
      "35\n",
      "is a multiple of 5\n",
      "36\n",
      "is a multiple of 3\n",
      "37\n",
      "is neither a multiple of 3 nor a multiple of 5\n",
      "38\n",
      "is neither a multiple of 3 nor a multiple of 5\n",
      "39\n",
      "is a multiple of 3\n",
      "40\n",
      "is a multiple of 5\n",
      "41\n",
      "is neither a multiple of 3 nor a multiple of 5\n",
      "42\n",
      "is a multiple of 3\n",
      "43\n",
      "is neither a multiple of 3 nor a multiple of 5\n",
      "44\n",
      "is neither a multiple of 3 nor a multiple of 5\n",
      "45\n",
      "is a multiple of 3\n",
      "46\n",
      "is neither a multiple of 3 nor a multiple of 5\n",
      "47\n",
      "is neither a multiple of 3 nor a multiple of 5\n",
      "48\n",
      "is a multiple of 3\n",
      "49\n",
      "is neither a multiple of 3 nor a multiple of 5\n",
      "50\n",
      "is a multiple of 5\n",
      "51\n",
      "is a multiple of 3\n",
      "52\n",
      "is neither a multiple of 3 nor a multiple of 5\n",
      "53\n",
      "is neither a multiple of 3 nor a multiple of 5\n",
      "54\n",
      "is a multiple of 3\n",
      "55\n",
      "is a multiple of 5\n",
      "56\n",
      "is neither a multiple of 3 nor a multiple of 5\n",
      "57\n",
      "is a multiple of 3\n",
      "58\n",
      "is neither a multiple of 3 nor a multiple of 5\n",
      "59\n",
      "is neither a multiple of 3 nor a multiple of 5\n",
      "60\n",
      "is a multiple of 3\n",
      "61\n",
      "is neither a multiple of 3 nor a multiple of 5\n",
      "62\n",
      "is neither a multiple of 3 nor a multiple of 5\n",
      "63\n",
      "is a multiple of 3\n",
      "64\n",
      "is neither a multiple of 3 nor a multiple of 5\n",
      "65\n",
      "is a multiple of 5\n",
      "66\n",
      "is a multiple of 3\n",
      "67\n",
      "is neither a multiple of 3 nor a multiple of 5\n",
      "68\n",
      "is neither a multiple of 3 nor a multiple of 5\n",
      "69\n",
      "is a multiple of 3\n",
      "70\n",
      "is a multiple of 5\n",
      "71\n",
      "is neither a multiple of 3 nor a multiple of 5\n",
      "72\n",
      "is a multiple of 3\n",
      "73\n",
      "is neither a multiple of 3 nor a multiple of 5\n",
      "74\n",
      "is neither a multiple of 3 nor a multiple of 5\n",
      "75\n",
      "is a multiple of 3\n",
      "76\n",
      "is neither a multiple of 3 nor a multiple of 5\n",
      "77\n",
      "is neither a multiple of 3 nor a multiple of 5\n",
      "78\n",
      "is a multiple of 3\n",
      "79\n",
      "is neither a multiple of 3 nor a multiple of 5\n",
      "80\n",
      "is a multiple of 5\n",
      "81\n",
      "is a multiple of 3\n",
      "82\n",
      "is neither a multiple of 3 nor a multiple of 5\n",
      "83\n",
      "is neither a multiple of 3 nor a multiple of 5\n",
      "84\n",
      "is a multiple of 3\n",
      "85\n",
      "is a multiple of 5\n",
      "86\n",
      "is neither a multiple of 3 nor a multiple of 5\n",
      "87\n",
      "is a multiple of 3\n",
      "88\n",
      "is neither a multiple of 3 nor a multiple of 5\n",
      "89\n",
      "is neither a multiple of 3 nor a multiple of 5\n",
      "90\n",
      "is a multiple of 3\n",
      "91\n",
      "is neither a multiple of 3 nor a multiple of 5\n",
      "92\n",
      "is neither a multiple of 3 nor a multiple of 5\n",
      "93\n",
      "is a multiple of 3\n",
      "94\n",
      "is neither a multiple of 3 nor a multiple of 5\n",
      "95\n",
      "is a multiple of 5\n",
      "96\n",
      "is a multiple of 3\n",
      "97\n",
      "is neither a multiple of 3 nor a multiple of 5\n",
      "98\n",
      "is neither a multiple of 3 nor a multiple of 5\n",
      "99\n",
      "is a multiple of 3\n"
     ]
    }
   ],
   "source": [
    "for i in range(0,100):\n",
    "    if i%3==0:\n",
    "        print(i)\n",
    "        print(\"is a multiple of 3\")\n",
    "    elif i%5==0:\n",
    "        print(i)\n",
    "        print(\"is a multiple of 5\")\n",
    "        \n",
    "    elif i%3==5 and i%5==0:\n",
    "        print(i)\n",
    "        print(\"is a multiple of both 3 and 5\")\n",
    "    else: \n",
    "        print(i)\n",
    "        print(\"is neither a multiple of 3 nor a multiple of 5\")"
   ]
  },
  {
   "cell_type": "code",
   "execution_count": null,
   "metadata": {},
   "outputs": [],
   "source": []
  }
 ],
 "metadata": {
  "kernelspec": {
   "display_name": "Python 3",
   "language": "python",
   "name": "python3"
  },
  "language_info": {
   "codemirror_mode": {
    "name": "ipython",
    "version": 3
   },
   "file_extension": ".py",
   "mimetype": "text/x-python",
   "name": "python",
   "nbconvert_exporter": "python",
   "pygments_lexer": "ipython3",
   "version": "3.7.4"
  }
 },
 "nbformat": 4,
 "nbformat_minor": 2
}
