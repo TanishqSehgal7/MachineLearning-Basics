{
 "cells": [
  {
   "cell_type": "code",
   "execution_count": 1,
   "metadata": {},
   "outputs": [
    {
     "name": "stdout",
     "output_type": "stream",
     "text": [
      "we are outisde the function\n"
     ]
    }
   ],
   "source": [
    "#functions in python - a collection of code or instructions used to perform a task\n",
    "\n",
    "# defining a function\n",
    "# indent with four spaces after the function definition to write the code inside the function \n",
    "def function1():\n",
    "    print('hi1')\n",
    "    print('hi2')\n",
    "print('we are outisde the function')    "
   ]
  },
  {
   "cell_type": "code",
   "execution_count": 2,
   "metadata": {},
   "outputs": [
    {
     "name": "stdout",
     "output_type": "stream",
     "text": [
      "hi1\n",
      "hi2\n"
     ]
    }
   ],
   "source": [
    "#calling the above definied function\n",
    "\n",
    "function1()"
   ]
  },
  {
   "cell_type": "code",
   "execution_count": 6,
   "metadata": {},
   "outputs": [
    {
     "name": "stdout",
     "output_type": "stream",
     "text": [
      "hi1\n",
      "hi2\n",
      "function called once \n",
      "\n",
      "hi1\n",
      "hi2\n",
      "function called twice\n"
     ]
    }
   ],
   "source": [
    "# note: a function can be called or used multiple times in python -> example \n",
    "\n",
    "function1()\n",
    "print('function called once \\n')\n",
    "function1()\n",
    "print('function called twice')"
   ]
  },
  {
   "cell_type": "code",
   "execution_count": 13,
   "metadata": {},
   "outputs": [],
   "source": [
    "#mapping in function -> function taking arguement and returning some result \n",
    "\n",
    "def function2(t):\n",
    "    return t**2\n"
   ]
  },
  {
   "cell_type": "code",
   "execution_count": 14,
   "metadata": {},
   "outputs": [
    {
     "name": "stdout",
     "output_type": "stream",
     "text": [
      "9\n"
     ]
    }
   ],
   "source": [
    "a=function2(3)\n",
    "print(a)"
   ]
  },
  {
   "cell_type": "code",
   "execution_count": 21,
   "metadata": {},
   "outputs": [
    {
     "name": "stdout",
     "output_type": "stream",
     "text": [
      "we are outisde the fucntion3\n"
     ]
    }
   ],
   "source": [
    "#mapping multiple arguements in a function\n",
    "\n",
    "def function3(x,y,z):\n",
    "    print('its a function taking 3 arguements')\n",
    "    print('giving result as')\n",
    "    return x+y+z\n",
    "print('we are outisde the fucntion3')"
   ]
  },
  {
   "cell_type": "code",
   "execution_count": 22,
   "metadata": {},
   "outputs": [
    {
     "name": "stdout",
     "output_type": "stream",
     "text": [
      "its a function taking 3 arguements\n",
      "giving result as\n",
      "6\n"
     ]
    }
   ],
   "source": [
    "b=function3(1,2,3)\n",
    "print(b)"
   ]
  },
  {
   "cell_type": "code",
   "execution_count": 25,
   "metadata": {},
   "outputs": [
    {
     "name": "stdout",
     "output_type": "stream",
     "text": [
      "we are outside the function now\n"
     ]
    }
   ],
   "source": [
    "# a function may or may not have a return value -> example \n",
    "\n",
    "def function4(arg1):\n",
    "    print(arg1**2)\n",
    "    print('learing python basics')\n",
    "print('we are outside the function now')    "
   ]
  },
  {
   "cell_type": "code",
   "execution_count": 26,
   "metadata": {},
   "outputs": [
    {
     "name": "stdout",
     "output_type": "stream",
     "text": [
      "25\n",
      "learing python basics\n"
     ]
    }
   ],
   "source": [
    "function4(5)"
   ]
  },
  {
   "cell_type": "code",
   "execution_count": 32,
   "metadata": {},
   "outputs": [],
   "source": [
    "# BMI CALCULATOR\n",
    "\n",
    "name1='Tanishq'\n",
    "height_m1=1.76\n",
    "weight_kg1=100\n",
    "\n",
    "name2='Mayank'\n",
    "height_m2=1.68\n",
    "weight_kg2=70\n",
    "\n",
    "name3='Tushar'\n",
    "height_m3=1.6\n",
    "weight_kg3=80"
   ]
  },
  {
   "cell_type": "code",
   "execution_count": 33,
   "metadata": {},
   "outputs": [],
   "source": [
    "def bmicalc(name,height_m,weight_kg):\n",
    "    bmi=weight_kg / (height_m **2)\n",
    "    print(\"bmi: \")\n",
    "    print(bmi)\n",
    "    if bmi<25:\n",
    "        return name+ \" is not overweight\"\n",
    "    else:\n",
    "        return name + \" is overweight\""
   ]
  },
  {
   "cell_type": "code",
   "execution_count": 34,
   "metadata": {},
   "outputs": [
    {
     "name": "stdout",
     "output_type": "stream",
     "text": [
      "bmi: \n",
      "32.28305785123967\n",
      "bmi: \n",
      "24.801587301587304\n",
      "bmi: \n",
      "31.249999999999993\n"
     ]
    }
   ],
   "source": [
    "result1=bmicalc(name1,height_m1,weight_kg1)\n",
    "result2=bmicalc(name2,height_m2,weight_kg2)\n",
    "result3=bmicalc(name3,height_m3,weight_kg3)"
   ]
  },
  {
   "cell_type": "code",
   "execution_count": 35,
   "metadata": {},
   "outputs": [
    {
     "name": "stdout",
     "output_type": "stream",
     "text": [
      "Tanishq is overweight\n",
      "Mayank is not overweight\n",
      "Tushar is overweight\n"
     ]
    }
   ],
   "source": [
    "print(result1)\n",
    "print(result2)\n",
    "print(result3)"
   ]
  },
  {
   "cell_type": "code",
   "execution_count": 44,
   "metadata": {},
   "outputs": [],
   "source": [
    "distance_mil1=10\n",
    "distance_mil2=12\n",
    "distance_mil3=14"
   ]
  },
  {
   "cell_type": "code",
   "execution_count": 45,
   "metadata": {},
   "outputs": [],
   "source": [
    "def kmcalc(distance_miles):\n",
    "    dist_km=1.6 * distance_miles\n",
    "    print(\"distance in kiloneters is:\\n\")\n",
    "    print(dist_km)"
   ]
  },
  {
   "cell_type": "code",
   "execution_count": 46,
   "metadata": {},
   "outputs": [
    {
     "name": "stdout",
     "output_type": "stream",
     "text": [
      "distance in kiloneters is:\n",
      "\n",
      "16.0\n",
      "distance in kiloneters is:\n",
      "\n",
      "19.200000000000003\n",
      "distance in kiloneters is:\n",
      "\n",
      "22.400000000000002\n"
     ]
    }
   ],
   "source": [
    "result1=kmcalc(distance_mil1)\n",
    "result2=kmcalc(distance_mil2)\n",
    "result3=kmcalc(distance_mil3)"
   ]
  },
  {
   "cell_type": "code",
   "execution_count": 47,
   "metadata": {},
   "outputs": [
    {
     "name": "stdout",
     "output_type": "stream",
     "text": [
      "None\n",
      "None\n",
      "None\n"
     ]
    }
   ],
   "source": [
    "print(result1)\n",
    "print(result2)\n",
    "print(result3)"
   ]
  },
  {
   "cell_type": "code",
   "execution_count": null,
   "metadata": {},
   "outputs": [],
   "source": []
  }
 ],
 "metadata": {
  "kernelspec": {
   "display_name": "Python 3",
   "language": "python",
   "name": "python3"
  },
  "language_info": {
   "codemirror_mode": {
    "name": "ipython",
    "version": 3
   },
   "file_extension": ".py",
   "mimetype": "text/x-python",
   "name": "python",
   "nbconvert_exporter": "python",
   "pygments_lexer": "ipython3",
   "version": "3.7.4"
  }
 },
 "nbformat": 4,
 "nbformat_minor": 2
}
