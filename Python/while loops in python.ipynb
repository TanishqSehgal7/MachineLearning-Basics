{
 "cells": [
  {
   "cell_type": "code",
   "execution_count": 22,
   "metadata": {},
   "outputs": [
    {
     "name": "stdout",
     "output_type": "stream",
     "text": [
      "10\n"
     ]
    }
   ],
   "source": [
    "total2=0\n",
    "j=1\n",
    "while j<5:\n",
    "    total2+=j\n",
    "    j+=1;\n",
    "print(total2)    "
   ]
  },
  {
   "cell_type": "code",
   "execution_count": 23,
   "metadata": {},
   "outputs": [
    {
     "name": "stdout",
     "output_type": "stream",
     "text": [
      "[5, 4, 4, 3, 1, -2, -3, -5]\n"
     ]
    }
   ],
   "source": [
    "given_list=[5,4,4,3,1,-2,-3,-5]\n",
    "print(given_list)"
   ]
  },
  {
   "cell_type": "code",
   "execution_count": 24,
   "metadata": {},
   "outputs": [
    {
     "name": "stdout",
     "output_type": "stream",
     "text": [
      "17\n"
     ]
    }
   ],
   "source": [
    "total3=0\n",
    "i=0\n",
    "\n",
    "while given_list[i] >0:\n",
    "    total3+=given_list[i]\n",
    "    i+=1\n",
    "print(total3)    "
   ]
  },
  {
   "cell_type": "code",
   "execution_count": 25,
   "metadata": {},
   "outputs": [
    {
     "data": {
      "text/plain": [
       "8"
      ]
     },
     "execution_count": 25,
     "metadata": {},
     "output_type": "execute_result"
    }
   ],
   "source": [
    "len(given_list)"
   ]
  },
  {
   "cell_type": "code",
   "execution_count": 26,
   "metadata": {},
   "outputs": [
    {
     "name": "stdout",
     "output_type": "stream",
     "text": [
      "[5, 4, 4, 3, 1, -2, -3, -5]\n"
     ]
    }
   ],
   "source": [
    "print(given_list)"
   ]
  },
  {
   "cell_type": "code",
   "execution_count": 27,
   "metadata": {},
   "outputs": [
    {
     "name": "stdout",
     "output_type": "stream",
     "text": [
      "-2\n",
      "/////////\n",
      "\n",
      "17\n"
     ]
    }
   ],
   "source": [
    "total4=0\n",
    "for element in given_list:\n",
    "    if element<0:\n",
    "        break\n",
    "    total4+=element\n",
    "print(element)\n",
    "print(\"/////////\\n\")\n",
    "print(total4)      "
   ]
  },
  {
   "cell_type": "code",
   "execution_count": 28,
   "metadata": {},
   "outputs": [
    {
     "name": "stdout",
     "output_type": "stream",
     "text": [
      "[5, 4, 4, 3, 1, -2, -3, -5]\n"
     ]
    }
   ],
   "source": [
    "print(given_list)"
   ]
  },
  {
   "cell_type": "code",
   "execution_count": 29,
   "metadata": {},
   "outputs": [
    {
     "name": "stdout",
     "output_type": "stream",
     "text": [
      "17\n"
     ]
    }
   ],
   "source": [
    "total5=0;\n",
    "\n",
    "i=0;\n",
    "while True:\n",
    "    total5+=given_list[i]\n",
    "    i+=1\n",
    "    if given_list[i]<=0:\n",
    "        break\n",
    "print(total5)        "
   ]
  },
  {
   "cell_type": "code",
   "execution_count": 43,
   "metadata": {},
   "outputs": [
    {
     "name": "stdout",
     "output_type": "stream",
     "text": [
      "[5, 4, 4, 3, 1, -2, -3, -5]\n"
     ]
    }
   ],
   "source": [
    "print(given_list)\n"
   ]
  },
  {
   "cell_type": "code",
   "execution_count": 59,
   "metadata": {},
   "outputs": [
    {
     "name": "stdout",
     "output_type": "stream",
     "text": [
      "-16\n"
     ]
    }
   ],
   "source": [
    "list2=[8,6,4,2,-1,-2,-6,-7]\n",
    "total6=0\n",
    "total7=0\n",
    "for i in list2:\n",
    "    if i>0:\n",
    "        total6+=i   \n",
    "    else:\n",
    "        total7+=i \n",
    "print(total7)"
   ]
  },
  {
   "cell_type": "code",
   "execution_count": null,
   "metadata": {},
   "outputs": [],
   "source": []
  }
 ],
 "metadata": {
  "kernelspec": {
   "display_name": "Python 3",
   "language": "python",
   "name": "python3"
  },
  "language_info": {
   "codemirror_mode": {
    "name": "ipython",
    "version": 3
   },
   "file_extension": ".py",
   "mimetype": "text/x-python",
   "name": "python",
   "nbconvert_exporter": "python",
   "pygments_lexer": "ipython3",
   "version": "3.7.4"
  }
 },
 "nbformat": 4,
 "nbformat_minor": 2
}
